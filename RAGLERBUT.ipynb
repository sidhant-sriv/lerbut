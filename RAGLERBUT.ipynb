{
 "cells": [
  {
   "cell_type": "code",
   "execution_count": 1,
   "id": "b1d9e4fd",
   "metadata": {},
   "outputs": [],
   "source": [
    "import langchain.llms\n",
    "from langchain.llms import Ollama\n",
    "from langchain.callbacks.manager import CallbackManager\n",
    "from langchain.callbacks.streaming_stdout import StreamingStdOutCallbackHandler\n",
    "from langchain_community.document_loaders import PyPDFLoader\n",
    "from langchain.document_loaders import DirectoryLoader\n",
    "from langchain.text_splitter import RecursiveCharacterTextSplitter\n",
    "from langchain.embeddings import HuggingFaceEmbeddings\n",
    "from langchain.retrievers import BM25Retriever, EnsembleRetriever\n",
    "import torch"
   ]
  },
  {
   "cell_type": "code",
   "execution_count": 2,
   "id": "cba5f641",
   "metadata": {},
   "outputs": [],
   "source": [
    "llm = Ollama(model=\"gemma:2b\",  callbacks=CallbackManager([StreamingStdOutCallbackHandler()]),num_gpu=1, base_url=\"http://localhost:11434\")"
   ]
  },
  {
   "cell_type": "code",
   "execution_count": 3,
   "id": "1dee3841",
   "metadata": {},
   "outputs": [
    {
     "name": "stderr",
     "output_type": "stream",
     "text": [
      "C:\\Users\\Raghav Kejriwal\\Desktop\\Python Testing\\RAGProject\\cuda\\Lib\\site-packages\\tqdm\\auto.py:21: TqdmWarning: IProgress not found. Please update jupyter and ipywidgets. See https://ipywidgets.readthedocs.io/en/stable/user_install.html\n",
      "  from .autonotebook import tqdm as notebook_tqdm\n"
     ]
    }
   ],
   "source": [
    "modelPath = \"BAAI/bge-large-en-v1.5\"\n",
    "\n",
    "# Create a dictionary with model configuration options, specifying to use the CPU for computations\n",
    "model_kwargs = {'device':'cuda:0'}\n",
    "encode_kwargs = {'normalize_embeddings': True}\n",
    "\n",
    "# Initialize an instance of HuggingFaceEmbeddings with the specified parameters\n",
    "embedding = HuggingFaceEmbeddings(\n",
    "    model_name=modelPath,     # Provide the pre-trained model's path\n",
    "    model_kwargs=model_kwargs, # Pass the model configuration options\n",
    "    encode_kwargs=encode_kwargs # Pass the encoding options\n",
    ")"
   ]
  },
  {
   "cell_type": "code",
   "execution_count": 4,
   "id": "e7e7d366",
   "metadata": {},
   "outputs": [
    {
     "data": {
      "text/plain": [
       "44"
      ]
     },
     "execution_count": 4,
     "metadata": {},
     "output_type": "execute_result"
    }
   ],
   "source": [
    "loader = DirectoryLoader(\"./data\", glob=\"*.pdf\", loader_cls=PyPDFLoader)\n",
    "documents = loader.load()\n",
    "len(documents)"
   ]
  },
  {
   "cell_type": "code",
   "execution_count": 5,
   "id": "e264d600",
   "metadata": {},
   "outputs": [
    {
     "data": {
      "text/plain": [
       "291"
      ]
     },
     "execution_count": 5,
     "metadata": {},
     "output_type": "execute_result"
    }
   ],
   "source": [
    "text_splitter = RecursiveCharacterTextSplitter(chunk_size=500, chunk_overlap=0)\n",
    "texts = text_splitter.split_documents(documents)\n",
    "len(texts)"
   ]
  },
  {
   "cell_type": "code",
   "execution_count": 6,
   "id": "3023c910",
   "metadata": {},
   "outputs": [
    {
     "data": {
      "text/plain": [
       "4266"
      ]
     },
     "execution_count": 6,
     "metadata": {},
     "output_type": "execute_result"
    }
   ],
   "source": [
    "import gc\n",
    "torch.cuda.empty_cache()\n",
    "gc.collect()"
   ]
  },
  {
   "cell_type": "code",
   "execution_count": 7,
   "id": "6ee00928",
   "metadata": {},
   "outputs": [],
   "source": [
    "from langchain.vectorstores import Chroma\n",
    "persist_directory = './db'\n",
    "vectordb = Chroma.from_documents(documents=texts, \n",
    "                                 embedding=embedding,\n",
    "                                 persist_directory=persist_directory)\n",
    "vectordb.persist()"
   ]
  },
  {
   "cell_type": "code",
   "execution_count": 8,
   "id": "1b5a2dd4",
   "metadata": {},
   "outputs": [
    {
     "data": {
      "text/plain": [
       "'cuda:0'"
      ]
     },
     "execution_count": 8,
     "metadata": {},
     "output_type": "execute_result"
    }
   ],
   "source": [
    "import torch\n",
    "dev = \"cuda:0\" if torch.cuda.is_available() else \"cpu\"\n",
    "dev"
   ]
  },
  {
   "cell_type": "code",
   "execution_count": 9,
   "id": "440559cc",
   "metadata": {},
   "outputs": [],
   "source": [
    "retriever = vectordb.as_retriever(search_kwargs={'k': 7})"
   ]
  },
  {
   "cell_type": "code",
   "execution_count": 10,
   "id": "5ec90026",
   "metadata": {},
   "outputs": [],
   "source": [
    "bm25_retriever = BM25Retriever.from_documents(texts)\n",
    "bm25_retriever.k =  5"
   ]
  },
  {
   "cell_type": "code",
   "execution_count": 11,
   "id": "60df4ee4",
   "metadata": {},
   "outputs": [],
   "source": [
    "ensemble_retriever = EnsembleRetriever(retrievers=[bm25_retriever, retriever],\n",
    "                                       weights=[0.3, 0.7])"
   ]
  },
  {
   "cell_type": "code",
   "execution_count": 12,
   "id": "76974000",
   "metadata": {},
   "outputs": [
    {
     "data": {
      "text/plain": [
       "[Document(page_content='5   \\n4.6 Course  Types  \\n \\nCourses may be classified as Theory only  (TH), Lab only (LO), Project only  (PJT) , \\nEmbedded Theory and Lab (ETL), Embedded Lab and Project (ELP), Embedded Theory and \\nProject (ETP) Embedded Theory , Lab and Project (ET LP). Courses  such as Seminar,  Mini Project/  \\nDesign  Project / Summe r Project / Innovation  project, Capstone  project,  Master’s  \\nDissertation/Thesis,  Comprehensive  exam,  Industrial  internship,  Co-/ Extra -Curricular, IIP/', metadata={'page': 8, 'source': 'data\\\\Academic-Regulations.pdf'}),\n",
       " Document(page_content='Students  also have  the option of choosing  from  a ‘basket  of courses’  within  each  classification.  \\nAmple  options are given  to choos e interdisciplinary courses  from  other  program s which  will \\nhelp the student  develop  additional  skills.  Slow  learners  will also benefit  since  important  \\ncourses  are offered  in both semesters in any given academic year. This  arrangement  helps  \\nthe students  to re-register  the course  and clear the backlog in subsequent  semester s.', metadata={'page': 4, 'source': 'data\\\\Academic-Regulations.pdf'}),\n",
       " Document(page_content='33  Annexure – I \\n \\nMinimum  duration  of the Programme  \\n \\n \\nProgramme  Minimum  period of Study  \\nB.Tech.  4 years  \\nM.Tech.  2 years  \\nM.Tech.  (5 year Integrated)  5 Years  \\nM.Sc.  2 years  \\nM.Sc.  (5 year Integrated)  5 years  \\nMCA, MBA  2 years  \\nBCA,  B.Sc., B.Com., BBA  3 years  \\nBA LLB, BBA LLB 5 years  \\nM. Des.  2 years \\nB. Arch.  5 years  \\nB. Des.  4 years  \\nB. Sc. Agri.  4 years', metadata={'source': 'data\\\\Academic-Regulations.pdf', 'page': 36}),\n",
       " Document(page_content='CONTENTS   \\n1.0 Preamble  1 \\n2.0 Scope  2 \\n3.0 Admission  2 \\n4.0 Academic System  3 \\n4.1 Semester  3 \\n4.2 Curriculum  3 \\n4.3 Syllabus  4 \\n4.4 Course Plan  4 \\n4.5 Course Flowchart  4 \\n4.6 Course Types  5 \\n4.7 Course Codes  5 \\n5.0 Programme Duration  5 \\n6.0 Course and Credit Requirements  6 \\n6.1 Course Credits  6 \\n6.2 Minimum Credit Requirement  6 \\n6.3 Credit Distribution – Discipline Wise  6 \\n6.4 Course Distribution  7 \\n6.4.1  University Core  7 \\n6.4.2  Programme Core  7', metadata={'source': 'data\\\\Academic-Regulations.pdf', 'page': 1}),\n",
       " Document(page_content='38 \\n  \\nAnnexure –VI \\nGrading Syste m \\n \\n \\n Letter  \\n Grade  Point  Remarks  \\nS 10 Pass  in the Course   \\n \\nPerformance  Grades  A 9 Pass  in the Course  \\nB 8 Pass  in the Course  \\nC 7 Pass  in the Course  \\nD 6 Pass  in the Course  \\nE 5 Pass  in the Course  \\nF Zero  Failed  in the course  by not securing  the minimum  marks  required  (or) Malpractice  in exams/  Acts of indiscipline  \\nN Zero   \\nN1 : Student fails to clear one or more components of a course', metadata={'source': 'data\\\\Academic-Regulations.pdf', 'page': 41}),\n",
       " Document(page_content='(Min.)  3X10  3X10  3X10  3X10  00 \\nLaboratory  00 100 100 00 00 \\nProject  00 100 00 100 100 \\nFinal Asses. Test \\n(FAT)  40 40 40 40 - \\nGrade Calc.  \\nBased  on Credit  2 1 0 0 3 3 0 2 4 5 2 0 2 0 3 2 2 0 4 4 0 0 0 4 1 \\nAs it is  Ratio 3:1:1  Ratio 2:1  Ratio 3:1:1  As it is', metadata={'source': 'data\\\\Academic-Regulations.pdf', 'page': 40})]"
      ]
     },
     "execution_count": 12,
     "metadata": {},
     "output_type": "execute_result"
    }
   ],
   "source": [
    "ensemble_retriever.get_relevant_documents(\"course types, 5\")"
   ]
  },
  {
   "cell_type": "code",
   "execution_count": 13,
   "id": "21d70429",
   "metadata": {},
   "outputs": [],
   "source": [
    "from langchain.chains import RetrievalQA\n",
    "\n",
    "qa_chain = RetrievalQA.from_chain_type(llm=llm, \n",
    "                                  retriever=ensemble_retriever,\n",
    "                                  return_source_documents=True)"
   ]
  },
  {
   "cell_type": "code",
   "execution_count": 14,
   "id": "bbdf8f32",
   "metadata": {},
   "outputs": [],
   "source": [
    "def process_llm_response(query):\n",
    "    llm_response = qa_chain(query)\n",
    "    return llm_response['result']\n",
    "    print('\\n\\nSources:')\n",
    "    for source in llm_response[\"source_documents\"]:\n",
    "        print(source.metadata['source'])"
   ]
  },
  {
   "cell_type": "code",
   "execution_count": 16,
   "id": "e7665020",
   "metadata": {},
   "outputs": [
    {
     "name": "stdout",
     "output_type": "stream",
     "text": [
      "According to the context, students need to register for additional program elective courses listed in their curriculum to earn the 'Honours' credential."
     ]
    },
    {
     "data": {
      "text/plain": [
       "\"According to the context, students need to register for additional program elective courses listed in their curriculum to earn the 'Honours' credential.\""
      ]
     },
     "execution_count": 16,
     "metadata": {},
     "output_type": "execute_result"
    }
   ],
   "source": [
    "query = \"What do I need for Semester Abroad?\"\n",
    "process_llm_response(query)\n",
    "# qa_chain(query)"
   ]
  },
  {
   "cell_type": "code",
   "execution_count": 17,
   "id": "d39f54d8",
   "metadata": {},
   "outputs": [
    {
     "name": "stdout",
     "output_type": "stream",
     "text": [
      "The context does not specify what course types are, so I cannot answer this question from the context."
     ]
    },
    {
     "data": {
      "text/plain": [
       "'The context does not specify what course types are, so I cannot answer this question from the context.'"
      ]
     },
     "execution_count": 17,
     "metadata": {},
     "output_type": "execute_result"
    }
   ],
   "source": [
    "query = \"What are course types? Explain in detail.\"\n",
    "process_llm_response(query)"
   ]
  },
  {
   "cell_type": "markdown",
   "id": "f2b50db2",
   "metadata": {},
   "source": [
    "# IMPLEMENTING CachedBackEmbeddings on HuggingFaceEmbeddings"
   ]
  },
  {
   "cell_type": "code",
   "execution_count": 18,
   "id": "3599f181",
   "metadata": {},
   "outputs": [
    {
     "name": "stdout",
     "output_type": "stream",
     "text": [
      "Note: you may need to restart the kernel to use updated packages.\n"
     ]
    },
    {
     "name": "stderr",
     "output_type": "stream",
     "text": [
      "\n",
      "[notice] A new release of pip is available: 23.2.1 -> 24.0\n",
      "[notice] To update, run: python.exe -m pip install --upgrade pip\n"
     ]
    }
   ],
   "source": [
    "from langchain.embeddings import CacheBackedEmbeddings\n",
    "%pip install --upgrade --quiet  langchain-openai faiss-cpu"
   ]
  },
  {
   "cell_type": "code",
   "execution_count": 19,
   "id": "fe9ec643",
   "metadata": {},
   "outputs": [],
   "source": [
    "from langchain.storage import LocalFileStore\n",
    "from langchain_community.document_loaders import TextLoader\n",
    "from langchain_community.vectorstores import FAISS\n",
    "from langchain_openai import OpenAIEmbeddings\n",
    "from langchain.text_splitter import CharacterTextSplitter\n",
    "\n",
    "# underlying_embeddings = OpenAIEmbeddings()\n",
    "\n",
    "store = LocalFileStore(\"./cache/\")\n",
    "\n",
    "cached_embedder = CacheBackedEmbeddings.from_bytes_store(\n",
    "    embedding, store\n",
    ")"
   ]
  },
  {
   "cell_type": "code",
   "execution_count": 20,
   "id": "cc494d57",
   "metadata": {},
   "outputs": [
    {
     "data": {
      "text/plain": [
       "['03bcea88-ccb1-5f8a-beb1-81fdaa608adc',\n",
       " '0559df5c-3a73-511f-84f0-ef3946bedd01',\n",
       " '06b24394-2006-5082-8c48-8671e6b11e9a',\n",
       " '09d7d7cf-ed06-52a5-b302-b909e8994890',\n",
       " '0a1037fc-5859-5e67-b364-e08cf319522f',\n",
       " '0abac0db-7db2-5fd5-82dd-a616503495a0',\n",
       " '0b655443-1935-5425-bd02-bfdca2365578',\n",
       " '0b6e5abc-7173-5a97-967a-28fb97350a33',\n",
       " '0be0e6d6-797b-58c5-b53e-b14ab6dbc4d9',\n",
       " '0ef87309-11c6-5270-a7fb-858198f2b610',\n",
       " '10a32057-64a9-5536-b216-0a3cff8ded0d',\n",
       " '10faea12-8729-5fcd-97b4-b6060d620c3d',\n",
       " '1203035f-4815-562a-95fc-3931c59ad4d6',\n",
       " '13b3ebb7-3219-545b-a1f9-37c11e513460',\n",
       " '16ed01d0-1a2b-5699-a815-36b31e34fa1e',\n",
       " '17a0efe9-12fe-58e2-9682-6462fa4b1df4',\n",
       " '1b51fd55-7ff8-574b-a083-dd9b8c04286f',\n",
       " '1eba8b7b-43da-5d1c-b4f8-dbc6031f5778',\n",
       " '1ffd27b5-5702-58dd-8205-a68c452a6985',\n",
       " '2185bae5-c62d-5651-a171-ac35341d974e',\n",
       " '24228d25-9dd9-5a8a-8e80-d7f4b97e576e',\n",
       " '247d6cee-0023-56a2-8f96-a13cd10cf5d4',\n",
       " '28034214-1488-5ff3-833c-5ca29f2d0b74',\n",
       " '280d73ee-f28c-5225-b624-e6384cf8b3fe',\n",
       " '2a099eef-fea7-5d9b-a72c-dbb53801bf53',\n",
       " '2a287a62-ce15-5f03-8afb-74715081ca3b',\n",
       " '2a60c0c3-5aa6-5ea0-b362-d36b3746a454',\n",
       " '2ae9d49b-366a-5164-b20a-84e3260ff539',\n",
       " '2d80973f-c73c-5a62-8644-8a0c148f4e71',\n",
       " '2e4a82a8-383b-52f7-8d2b-b37c4a1a8bd1',\n",
       " '30ba0bc7-3f14-52a5-b784-530f48209af2',\n",
       " '31f1add5-f1eb-5e05-9a30-e430e3eb757f',\n",
       " '31f65b6c-55d7-555c-b030-1987dd18ed03',\n",
       " '33de0f29-7589-56d3-938f-c1de6c936e07',\n",
       " '3402e410-42c9-5587-9db3-5e5a00790db1',\n",
       " '348be407-b134-56a2-824f-95cc9fa369bd',\n",
       " '368ffdfc-6269-5606-8e87-75cde54d6cac',\n",
       " '36ffd4b1-026c-5ff6-bd2f-406030acd7ab',\n",
       " '3ac7dfa1-5f2b-521a-9535-60d85621f965',\n",
       " '3cb01b1f-13a2-5393-8083-36be7375521c',\n",
       " '3dc98988-e981-5527-b532-9f85121d3b3d',\n",
       " '3dcd0427-fc76-5eef-bdf4-17f027f49a1d',\n",
       " '3f386329-70c0-5903-bd16-4235c6dda395',\n",
       " '40dcd6fe-c979-5737-8636-ca11568b2899',\n",
       " '4159489f-1730-5c7a-87fd-e213994c6fed',\n",
       " '42379124-595a-5ad7-838f-c79198d94abc',\n",
       " '42881618-cc1b-5b04-8c66-f4bbdcc739bb',\n",
       " '435a5b47-d11c-579c-bf5a-18074044dc85',\n",
       " '4461c662-e5b7-52a9-9871-d0931d28040e',\n",
       " '4471eb75-525b-559f-9b54-766851f6e5b2',\n",
       " '44d21aa6-7fed-5afc-ab1e-735defac8095',\n",
       " '453ea9dc-1465-50e5-a5e3-bd727334cbfa',\n",
       " '45570bb7-1b70-5f5d-8de4-5721b49aa2b2',\n",
       " '45a15003-dc18-5b89-a8f6-693aae4507a5',\n",
       " '45a7e199-6688-5150-b96b-3cc141e03d56',\n",
       " '47ef73ee-7678-5c16-82ba-760adf6842d8',\n",
       " '4b0cebd5-1809-5562-90b5-79112a95d59f',\n",
       " '4b91b1af-87bc-5208-9909-4767ff067cfe',\n",
       " '4c22fabc-0a0b-52d1-aec4-7ad9a65799e6',\n",
       " '4cbc7935-b0f7-572f-8a83-ac8061e957ff',\n",
       " '4d25d11d-a918-59c2-a8cf-231affab342b',\n",
       " '4e3e9a2e-9b1f-5246-a806-e5cc7308ae8c',\n",
       " '4f546078-da78-5688-adb3-3f7a00d704cd',\n",
       " '52d7833c-fded-5cd0-b1a2-94028514e3a7',\n",
       " '5345e3ca-41e6-55b2-848f-71c9f0e2df59',\n",
       " '54de329a-e1f1-5a8c-be19-1ffbfb4e58fc',\n",
       " '55000c3d-1f69-5406-a65f-315f04dfda50',\n",
       " '554bbcdb-b8a1-5671-8a0f-2cd3ebee6b31',\n",
       " '5748482e-d80e-559a-a926-a402850e8dc2',\n",
       " '5760cc24-bd99-5af1-829f-99fa8a7d364e',\n",
       " '58e5d707-782c-5fc9-98f3-8127e8d473d0',\n",
       " '5a335d0f-7c1a-543f-9a6e-af0d236f32cf',\n",
       " '5e0365c9-b5d8-5318-85da-1b3335fdb5d7',\n",
       " '61a3318d-588e-5ceb-a7d9-34ee52013d4c',\n",
       " '622bd95b-c00c-59c1-9fee-9681a250c4fa',\n",
       " '63d5386b-6bbb-564e-aeac-919f3e77d110',\n",
       " '6406a694-cb78-5742-94bc-5e5741b3cda3',\n",
       " '6464c5f5-386d-5d9c-95c9-4597b06b7045',\n",
       " '649f27fe-d77e-5f6a-bf28-f2535a594daa',\n",
       " '64ba9bb3-e679-5177-b2b2-79a4753eeda0',\n",
       " '65534f18-da05-513b-b9fb-35bc4b50db66',\n",
       " '659c976d-8d92-54b4-b127-a63b60cf6f2a',\n",
       " '66e347b1-b961-5150-88a4-3976ba3fe817',\n",
       " '67ddc1ca-9d7d-592b-90e7-d1c8f6bc4c9f',\n",
       " '684c2ff6-fc81-52b0-95fe-262fb03eb1b7',\n",
       " '69faa968-08aa-5245-b759-16050aa80dea',\n",
       " '6aebbe4a-b846-5b71-9cfc-b3612f208487',\n",
       " '6b610f49-eb06-5bd0-b000-62dfcb719483',\n",
       " '6bbb26b0-74f7-500c-ad21-c2d8c1adca6f',\n",
       " '6d1311c6-0daa-58a3-aa05-9fd4a048f254',\n",
       " '6d153de3-5f48-5a19-9d41-c2eadf4946d9',\n",
       " '6e71110d-b12b-5a26-ba7b-8d2f95c62e5a',\n",
       " '6fc44b49-66e7-56e1-b150-dc4bbfb55684',\n",
       " '710292a9-a94f-56fa-856a-22491ae1ebd6',\n",
       " '71c2ea68-f4db-518e-a745-8d32dacf39f1',\n",
       " '75f348d1-69ca-512f-b7dd-29c6b571b0f2',\n",
       " '76d876f7-439e-5a80-a23f-97e47f54ed24',\n",
       " '76e86583-dc15-5b6b-9a40-154ae3090053',\n",
       " '789860d1-d160-5b1d-a453-31cf128b45cc',\n",
       " '789f53da-b4b4-5a57-9757-6c98befc1515',\n",
       " '7a3080a3-6160-52fb-a0ce-142df0967f8b',\n",
       " '7a314c01-9b38-54ec-8b56-029d24ec0cce',\n",
       " '7fd2916a-85a7-59c0-a075-d49d9a0566b8',\n",
       " '8219db6a-3cd9-5180-b542-ff30f09511a4',\n",
       " '823637c4-30ec-5836-9471-0a9b5173e53e',\n",
       " '84c1f5d7-a5d9-5b94-b3cf-8bef5f3e727c',\n",
       " '860d8718-2155-5480-92ec-bcc7fd14f7f5',\n",
       " '861105a7-3f66-5131-b28f-858b2a38303f',\n",
       " '861293d0-4517-5212-bf2f-6b961404c622',\n",
       " '8b28aede-7a57-5ad9-8626-67da7ff9bcd2',\n",
       " '8c0729bc-3baa-5684-be26-37401d961e2c',\n",
       " '8e20f7dc-84be-5a4e-87b5-0e9a22933cdc',\n",
       " '8e97a5ee-fd73-55ea-950f-ba4561abf36d',\n",
       " '8ed3a9da-2f73-5a40-927b-7bbf46acf3fc',\n",
       " '90c43fbf-6648-5e3b-8ec3-3999ab768050',\n",
       " '9158a001-2117-5780-86de-65bc228392d1',\n",
       " '9295f651-0859-5f6b-b730-a83f07223b99',\n",
       " '929d28af-abfc-5d08-b603-25178deaba30',\n",
       " '92d03c38-2dde-5af0-8cf9-f8469fb4252c',\n",
       " '960ffcf8-f7a1-585e-b24b-7c93aedb07f9',\n",
       " '965fc2c5-6138-5fc9-99a7-0b1879013fe9',\n",
       " '97934cd8-c9b8-5b16-a571-d2074be04cf9',\n",
       " '97b6a8e8-baee-517b-96ce-5718367d7382',\n",
       " '99680ab9-1262-5f07-a4d2-efef007211b2',\n",
       " '9b36d24e-6046-57db-8008-5cca1a9d70d8',\n",
       " '9ce3c4c6-6457-51fb-a327-1716991058c9',\n",
       " 'a02daf89-cb08-514f-9554-00a0c18e2d1c',\n",
       " 'a1321e37-477a-5585-867b-e3b4774c8e10',\n",
       " 'a5463a53-0c73-5d65-b3f0-ce42e5de2f96',\n",
       " 'a82ce857-6d7d-562e-805a-030bc00abba7',\n",
       " 'a8d4888d-2694-5a3e-9abf-a54b5f9770a5',\n",
       " 'aa011881-11cc-5409-94b1-4e291bffdc9b',\n",
       " 'aa12bbbe-f66e-5b98-80f0-c428f71a70c3',\n",
       " 'ac7d6f71-3a3c-509c-8c73-0195e294ab97',\n",
       " 'aebb7bec-60ac-5389-b4a3-87b0fd1e316e',\n",
       " 'af05272b-b466-59bf-ad0a-1ce6aba7f035',\n",
       " 'af3c80fb-ba15-50d0-9b32-f600383a5a03',\n",
       " 'b27a194e-5fae-54c0-838a-dc09ee4cbd68',\n",
       " 'b27c380e-f169-5f00-9f6d-d5f86ddf7c3e',\n",
       " 'b2b19350-aaa2-5166-9690-c1912535fd95',\n",
       " 'b4b326e0-72c6-5d13-bd16-77ae429ca2c5',\n",
       " 'b51f5700-7ca7-529e-9cff-fc9a3a73a888',\n",
       " 'b5566043-58ed-5cd5-a1f9-203c3f018591',\n",
       " 'b5efdadd-2486-58c3-bf8b-c09db8d8f018',\n",
       " 'b708087e-8adb-50b3-a969-9b8561613078',\n",
       " 'b769315a-d09d-5633-aa10-6f4f140a004a',\n",
       " 'b7f61b0b-c9e5-52dd-b968-0d575f73606e',\n",
       " 'b88edfde-67f6-5950-b75d-1ba0ed10674e',\n",
       " 'b8b5d72f-a85e-5c90-a923-5dca8f01da5c',\n",
       " 'b900ca9e-9bcc-5aa5-8a01-bd5ab9036500',\n",
       " 'b90af40c-6256-53a8-8b5a-d3284632aab2',\n",
       " 'bc12440c-2534-5694-9411-6a9dccd1aed6',\n",
       " 'bc15e81d-7d85-5de0-b736-8fa4eb1b4589',\n",
       " 'bf5bf5ae-ff0b-5bd1-bc10-c4cd6cfad04c',\n",
       " 'bf996f23-2ae9-59d3-a034-5994e3782aac',\n",
       " 'bfadd66d-f736-550e-b68f-4f1d23053a8d',\n",
       " 'bfe3dae9-524f-5ada-a101-6f5f40a91dd8',\n",
       " 'c01d3b2c-75fc-5fce-88ba-98b9affea453',\n",
       " 'c111ac8b-8254-581a-89bd-ce12584a5793',\n",
       " 'c227d0cf-dd6b-54fd-a8b0-c09845808a2e',\n",
       " 'c2b356f4-d91c-5d5d-abdc-f0eb91b85508',\n",
       " 'c48f2293-11ed-5c1f-81c0-4a846d24fb8d',\n",
       " 'c49117c8-e050-5a41-bf7c-a6789e04e7b6',\n",
       " 'c5879f15-9a42-54da-8fbc-80e0611cb010',\n",
       " 'c75be010-e381-5352-8d26-efe43d3be7ff',\n",
       " 'c8c61ce4-13e2-5c6c-800f-25ab94685179',\n",
       " 'c8f82429-78b3-5770-ae65-e4141ed84703',\n",
       " 'c9675238-7c33-5f33-8ab3-a8b7e92c0e77',\n",
       " 'c9cdd42b-6e6e-53d9-a1f2-0171289f95a4',\n",
       " 'ca49bf82-a68b-5446-b02f-48db910f8a44',\n",
       " 'caa1540a-0861-5c11-9346-f69b5357ce4c',\n",
       " 'caeef89f-9660-52d7-ae8f-b3f47101a5b4',\n",
       " 'cb41e287-0c4f-5180-93c0-adb3c8c241ec',\n",
       " 'cc4fc1a3-6b96-5a74-a023-6006152af679',\n",
       " 'cd0cef8f-11c6-5023-a6a4-66652a7c99fd',\n",
       " 'cd347f4f-d020-5f49-be09-217288cc6e88',\n",
       " 'ce9f7237-4f76-56d2-b0ef-77d749cc8a45',\n",
       " 'd027c1a0-244c-50fa-ac80-22695da9646d',\n",
       " 'd0a56e6f-e49f-5b2f-bec2-282bfe6d3b21',\n",
       " 'd29e5b49-f909-57ef-b4e2-c031fa9ca41a',\n",
       " 'd475c0a9-d7a4-5a67-98f9-7b7a441e7ec5',\n",
       " 'd4896451-c7b5-5b5a-a432-ce63c5ddaece',\n",
       " 'd691bee9-4489-56e1-9bb7-b7b3b0ce6e21',\n",
       " 'd6ba2aec-9de3-501d-9336-b766abca15b8',\n",
       " 'd715c0c1-65e0-575c-a9ed-f446780ba5ea',\n",
       " 'd7c441d0-7630-5115-be33-cc2e08aeba50',\n",
       " 'd8ff4c3d-b0f7-58ba-b160-965d7c2733eb',\n",
       " 'dc6b4742-81c9-5c92-879e-5e91719e524b',\n",
       " 'dc799645-605a-57a1-b4d2-b298ceba4442',\n",
       " 'de6fc5dd-01aa-5b5e-a41c-dbe026997474',\n",
       " 'e1088f32-e15a-547c-94bc-3f0df9b03577',\n",
       " 'e220d54f-0bec-5792-af8f-4a2c2349d97d',\n",
       " 'e3a5c041-dba6-5369-9932-d5ab3202d6c9',\n",
       " 'e499af1e-b1d7-5c7a-932f-7c0dbec102c9',\n",
       " 'e53b532e-4e86-5ee3-a7ac-d4b2be914a34',\n",
       " 'e5c099b5-74bb-58c0-8fce-3305af7fff8d',\n",
       " 'e5c31288-53e0-5589-bb61-83ec0b65821e',\n",
       " 'e5ff2c9c-c17f-55fb-909e-665ea186eb46',\n",
       " 'e60fae5e-850b-5246-b97b-d5c152c98417',\n",
       " 'e6b9550a-5855-5f4d-b230-de9156878342',\n",
       " 'e8d39ca5-567a-5b79-8cf8-f73b20ece165',\n",
       " 'eaef0346-8901-5c81-96e0-a33347610662',\n",
       " 'eb3dc4b2-f2bc-58a9-9310-10d9f7903e75',\n",
       " 'eb9fee13-279a-5ce5-a969-dcc9c1983722',\n",
       " 'eca6d9e7-1ce7-5217-869a-01b702f62a5e',\n",
       " 'ed502a5a-d969-52e9-a6ba-8daf2920efa9',\n",
       " 'ef368ee9-ee14-572a-8d70-b5045c537efc',\n",
       " 'f0c38e80-1bb8-5c14-88f6-96958b23dbf3',\n",
       " 'f0f7d0ca-c6b9-5dbd-8706-d603edfab44d',\n",
       " 'f859b306-d70a-5d33-93b3-711e9d8d2bf1',\n",
       " 'f90c9479-198c-5763-a78e-a2cb4db7c9c6',\n",
       " 'f92be07c-5b38-5fc1-91a9-41301a7b9c3a',\n",
       " 'f9afee14-9ebc-5a86-951c-6eb56b7f963f',\n",
       " 'f9cefbed-5d2f-5524-8579-617b0be7d86e',\n",
       " 'fbd401a1-6f9b-540f-89cc-7423d76a9916',\n",
       " 'fc61e324-920c-5e07-acdd-40bb4511eb52',\n",
       " 'fec85579-ee17-5537-8d6c-b9b2e2644171',\n",
       " 'ffb42d2e-515e-5d2c-a9e8-ed36d85e75cd']"
      ]
     },
     "execution_count": 20,
     "metadata": {},
     "output_type": "execute_result"
    }
   ],
   "source": [
    "list(store.yield_keys())"
   ]
  },
  {
   "cell_type": "code",
   "execution_count": 21,
   "id": "3cfd1dd9",
   "metadata": {},
   "outputs": [],
   "source": [
    "raw_documents = DirectoryLoader(\"./data\", glob=\"*.pdf\", loader_cls=PyPDFLoader).load()\n",
    "text_splitter = CharacterTextSplitter(chunk_size=1500, chunk_overlap=0)\n",
    "documents = text_splitter.split_documents(raw_documents)"
   ]
  },
  {
   "cell_type": "code",
   "execution_count": 22,
   "id": "15efbe34",
   "metadata": {},
   "outputs": [
    {
     "name": "stdout",
     "output_type": "stream",
     "text": [
      "CPU times: total: 250 ms\n",
      "Wall time: 2.72 s\n"
     ]
    }
   ],
   "source": [
    "%%time\n",
    "db = FAISS.from_documents(documents, cached_embedder)"
   ]
  },
  {
   "cell_type": "code",
   "execution_count": 23,
   "id": "508e6ebd",
   "metadata": {},
   "outputs": [
    {
     "data": {
      "text/plain": [
       "['03bcea88-ccb1-5f8a-beb1-81fdaa608adc',\n",
       " '0559df5c-3a73-511f-84f0-ef3946bedd01',\n",
       " '06b24394-2006-5082-8c48-8671e6b11e9a',\n",
       " '09d7d7cf-ed06-52a5-b302-b909e8994890',\n",
       " '0a1037fc-5859-5e67-b364-e08cf319522f']"
      ]
     },
     "execution_count": 23,
     "metadata": {},
     "output_type": "execute_result"
    }
   ],
   "source": [
    "list(store.yield_keys())[:5]"
   ]
  },
  {
   "cell_type": "code",
   "execution_count": 24,
   "id": "e402754c",
   "metadata": {},
   "outputs": [],
   "source": [
    "from langchain.embeddings import CacheBackedEmbeddings\n",
    "from langchain.storage import InMemoryByteStore\n",
    "\n",
    "store = InMemoryByteStore()\n",
    "\n",
    "cached_embedder = CacheBackedEmbeddings.from_bytes_store(\n",
    "    embedding, store\n",
    ")"
   ]
  },
  {
   "cell_type": "markdown",
   "id": "0f2d0248",
   "metadata": {},
   "source": [
    "# Implementing MilvusVectorDatabase"
   ]
  },
  {
   "cell_type": "code",
   "execution_count": 25,
   "id": "503bc8db",
   "metadata": {},
   "outputs": [
    {
     "name": "stdout",
     "output_type": "stream",
     "text": [
      "Note: you may need to restart the kernel to use updated packages.\n"
     ]
    },
    {
     "name": "stderr",
     "output_type": "stream",
     "text": [
      "\n",
      "[notice] A new release of pip is available: 23.2.1 -> 24.0\n",
      "[notice] To update, run: python.exe -m pip install --upgrade pip\n"
     ]
    }
   ],
   "source": [
    "%pip install --upgrade --quiet  pymilvus"
   ]
  },
  {
   "cell_type": "code",
   "execution_count": 26,
   "id": "2a70c1c9",
   "metadata": {},
   "outputs": [],
   "source": [
    "from langchain_community.document_loaders import TextLoader\n",
    "from langchain_community.vectorstores import Milvus\n",
    "from langchain_openai import OpenAIEmbeddings\n",
    "from langchain.text_splitter import CharacterTextSplitter"
   ]
  },
  {
   "cell_type": "code",
   "execution_count": null,
   "id": "9843bc0d",
   "metadata": {},
   "outputs": [],
   "source": [
    "from pymilvus import connections, db\n",
    "\n",
    "conn = connections.connect(host=\"127.0.0.1\", port=19530)\n",
    "\n",
    "database = db.create_database(\"book\")\n"
   ]
  },
  {
   "cell_type": "code",
   "execution_count": null,
   "id": "80f4285c",
   "metadata": {},
   "outputs": [],
   "source": [
    "vector_db = Milvus.from_documents(\n",
    "    raw_documents,\n",
    "    embedding,\n",
    "    connection_args={\"host\": \"127.0.0.1\", \"port\": \"19530\"},\n",
    ")"
   ]
  },
  {
   "cell_type": "markdown",
   "id": "c9faa20f",
   "metadata": {},
   "source": [
    "# Implementing OCR "
   ]
  },
  {
   "cell_type": "code",
   "execution_count": 1,
   "id": "405bc105",
   "metadata": {},
   "outputs": [
    {
     "name": "stdout",
     "output_type": "stream",
     "text": [
      "Requirement already satisfied: pytesseract in c:\\users\\raghav kejriwal\\desktop\\python testing\\ragproject\\cuda\\lib\\site-packages (0.3.10)\n",
      "Requirement already satisfied: packaging>=21.3 in c:\\users\\raghav kejriwal\\desktop\\python testing\\ragproject\\cuda\\lib\\site-packages (from pytesseract) (23.2)\n",
      "Requirement already satisfied: Pillow>=8.0.0 in c:\\users\\raghav kejriwal\\desktop\\python testing\\ragproject\\cuda\\lib\\site-packages (from pytesseract) (10.2.0)\n"
     ]
    },
    {
     "name": "stderr",
     "output_type": "stream",
     "text": [
      "\n",
      "[notice] A new release of pip is available: 23.2.1 -> 24.0\n",
      "[notice] To update, run: python.exe -m pip install --upgrade pip\n"
     ]
    }
   ],
   "source": [
    "!pip install pytesseract\n",
    "from PIL import Image\n",
    "import pytesseract\n",
    "import numpy as np\n",
    "pytesseract.pytesseract.tesseract_cmd = r'C:\\Program Files\\Tesseract-OCR\\tesseract.exe'\n",
    "filename = './data/vitfees.jpeg'\n",
    "img1 = np.array(Image.open(filename))\n",
    "text = pytesseract.image_to_string(img1)"
   ]
  },
  {
   "cell_type": "code",
   "execution_count": 2,
   "id": "382fb374",
   "metadata": {},
   "outputs": [
    {
     "name": "stdout",
     "output_type": "stream",
     "text": [
      "Scholarship Group A (INR) Group B (INR)\n",
      "ae Total\n",
      "\n",
      "Fee fee Fee Fee fee Fee\n",
      "\n",
      "Advance Balance Total Advance Balance\n",
      "\n",
      "1 1,76,000 1,50,000 26,000 1,98,000 | 1,98,000 0\n",
      "\n",
      "\" 2,35,000 1,50,000 85,000 3,07,000 | 2,00,000 1,07,000\n",
      "ml 3,43,000 2,00,000 1,43,000 4,05,000 | 2,50,000 1,55,000\n",
      "Vv 3,68,000 2,00,000 1,68,000 4,48,000 3,00,000 1,48,000\n",
      "\n",
      "Vv 3,98,000 2,50,000 1,48,000 4,93,000 3,00,000 1,93,000\n",
      "\n",
      "\n"
     ]
    }
   ],
   "source": [
    "print(text)"
   ]
  },
  {
   "cell_type": "code",
   "execution_count": 3,
   "id": "bb8022fa",
   "metadata": {},
   "outputs": [],
   "source": [
    "filename = './data/vittt.png'\n",
    "img1 = np.array(Image.open(filename))\n",
    "text = pytesseract.image_to_string(img1)"
   ]
  },
  {
   "cell_type": "code",
   "execution_count": 4,
   "id": "5d06de1c",
   "metadata": {},
   "outputs": [
    {
     "name": "stdout",
     "output_type": "stream",
     "text": [
      "The Final Assessment Test (FAT) Theory Schedule (Closed Book Exam) for all courses offered during the\n",
      "Winter Semester 2023-24 for is available in V-Top. The same is presented below for your reference.\n",
      "\n",
      "FAT Schedule - Winter Semester 2023-24\n",
      "\n",
      "Exam Session 1 (09:30 AM - 12:30 PM)\n",
      "Exam Day,\n",
      "siete Schedule\n",
      "‘A, AISTAISTAAL AIATAL, IL14MI+R12,_ MA2+UIL, 13eNSsMa,ThaR@¥U3,\n",
      "06-May-24 | Monday | AL+TALTAAL+V1, I3+14+U3, 13+U3, 17418, I74R74UT, I7U4, 1B4M7, M24R7, M34N3+U9,\n",
      "N7+NB+N9+N1O & R34R4\n",
      "O7-May-24 | Tuesday | A2, A2+TA2, AZ+TA2+TAA2, A2¥TA2FTAA2WV3 & A2TAZ*VL\n",
      "Bi, BIVTBL, 14+I5+N2, 12+I4+i5, 174R4, IBsM9, 11J6MI3¥NI2, NIGeRIIVU3, I5¥ND,\n",
      "08 May-24 | Wednesday 18+U1, 19+110+M2, 19+N2, I9+U7, M2+N3, M3+N3, M44R9+U7 & R2+R3\n",
      "09-May-24 | Thursday | 62, 82+7B2, B2+TB2+TBB2 & B2+TB2+TBB2+VA\n",
      "Di, DIFTDI, DIFTDIAVA, IOeR3eR4, IOFRS, MasM5, MasN2+R1, MS+RS¢R4, M7ANEFR7,\n",
      "10-May-24 Friday M7485, MB+N9 & N7+R9\n",
      "11-May-24 | Saturday | 02, 02+7D2, D2+TO2+V6 & D2+TOZ+TDDZ\n",
      "Taaay-24 | Monday | Ch CHTCH CLTCISTCCH, CIeTCI“TCCIev2, MBVRS, NEVRB+UG, NILVRIZ, M3+MarR2,\n",
      "u M3+N2, MS+N7+US, N3+RS, N1+N2, MS+R9, I7+18+N2, M2+M3, M2+R34+R4 & M3+M4\n",
      "a4May-24 | Tuesday | C2, C2+TC2, C2+TC2+TCCR, C2HTCRETCCR+VA, C2HTCRAVS & C2¥TC2ATCCNS\n",
      "Ed, EL*TEL, ELVTELWV2, MaPRAVUS, MSVR3, M7>MBeMO, MBAN2, MONT#UL, MOTUS,\n",
      "eater 2d | Wesnconey | EE ATELAV2, M&¥RE+U4, MS¥RS, M7sMB2M9, MIND, MD-NT+UL, MOFUS, ND\n",
      "N99\n",
      "16-May-26 | Thursday | €2, €247E2 & E2+TEDWS\n",
      "17-May-24 | Friday | Fa, FL+TFL, FATFL+V2, N2+RO+U9, RB+UB, RBVUT, R2, N2¥U3, MO¥NOFRE & M34N2+U2\n",
      "18-May-24 | Saturday | Buffer Day *\n",
      "20-May-26 | Monday | F2 & F24TF2\n",
      "2iMay-24 | Tuesday | G1, G1+TG1, AS+US & R5+U2+U3\n",
      "22-May-24 | Wednesday | G2 & G2+T62\n",
      "23-May-24 | Thursday | TF2, TF1, TAA2, TCC2, TO1, TO2, TDD2, TCA, TEI, TA2, TC1, TBB2, TE1, TE2, TA1 & TB2\n",
      "24-May-24 | Friday | TAAL\n",
      "XA2K2V2L, ——VAORKTTAXI2, ——VATXATSXI2OXL, VITAL,\n",
      "25-May-24 | Saturday | vernaiexi2+x21eZ21, xLL¢X12, KAL+X12+X21, X1L4X126X214222, X114K124V214V12,\n",
      "XaLeX124V21 & X214221\n",
      "27-May-24 | Monday | x21evi1+va2, vaa+vi2+¥21+221, W214Y114Y124V21, W21+W224221, W214W22 & 221\n",
      "28-May-28 | Tuesday | x2tevi2ev2a, videvi24v2a, Y21 & Y214Z21\n",
      "29-May-24 | Wednesday | x21.& vi1ev12,\n",
      "\n",
      "In case any FAT of the Semester requires rescheduling due eee -asons, it be scheduled on the\n",
      "Buffer Day. o us A\n",
      "[SF rey VO\n",
      "\n"
     ]
    }
   ],
   "source": [
    "print(text)"
   ]
  },
  {
   "cell_type": "code",
   "execution_count": null,
   "id": "06716cdb",
   "metadata": {},
   "outputs": [],
   "source": []
  }
 ],
 "metadata": {
  "kernelspec": {
   "display_name": "usecuda",
   "language": "python",
   "name": "cuda"
  },
  "language_info": {
   "codemirror_mode": {
    "name": "ipython",
    "version": 3
   },
   "file_extension": ".py",
   "mimetype": "text/x-python",
   "name": "python",
   "nbconvert_exporter": "python",
   "pygments_lexer": "ipython3",
   "version": "3.11.5"
  }
 },
 "nbformat": 4,
 "nbformat_minor": 5
}
