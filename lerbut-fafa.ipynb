{
 "cells": [
  {
   "cell_type": "code",
   "execution_count": 1,
   "id": "68ee78d5",
   "metadata": {},
   "outputs": [],
   "source": [
    "from langchain.llms import Ollama\n",
    "from langchain.callbacks.manager import CallbackManager\n",
    "from langchain.callbacks.streaming_stdout import StreamingStdOutCallbackHandler\n",
    "from langchain_community.document_loaders import PyPDFLoader\n",
    "from langchain.document_loaders import DirectoryLoader\n",
    "from langchain.text_splitter import RecursiveCharacterTextSplitter\n",
    "from langchain.embeddings import HuggingFaceEmbeddings\n",
    "from langchain.retrievers import BM25Retriever, EnsembleRetriever\n",
    "import torch\n"
   ]
  },
  {
   "cell_type": "code",
   "execution_count": 2,
   "id": "fc885dae",
   "metadata": {},
   "outputs": [],
   "source": [
    "llm = Ollama(model=\"mistral\",  callbacks=CallbackManager([StreamingStdOutCallbackHandler()]),num_gpu=1, base_url=\"http://localhost:11434\")"
   ]
  },
  {
   "cell_type": "code",
   "execution_count": 3,
   "id": "a52e0f4e",
   "metadata": {},
   "outputs": [
    {
     "name": "stderr",
     "output_type": "stream",
     "text": [
      "/home/sid/.local/lib/python3.10/site-packages/tqdm/auto.py:21: TqdmWarning: IProgress not found. Please update jupyter and ipywidgets. See https://ipywidgets.readthedocs.io/en/stable/user_install.html\n",
      "  from .autonotebook import tqdm as notebook_tqdm\n"
     ]
    }
   ],
   "source": [
    "modelPath = \"BAAI/bge-large-en-v1.5\"\n",
    "\n",
    "# Create a dictionary with model configuration options, specifying to use the CPU for computations\n",
    "model_kwargs = {'device':'cuda:0'}\n",
    "encode_kwargs = {'normalize_embeddings': True}\n",
    "\n",
    "# Initialize an instance of HuggingFaceEmbeddings with the specified parameters\n",
    "embedding = HuggingFaceEmbeddings(\n",
    "    model_name=modelPath,     # Provide the pre-trained model's path\n",
    "    model_kwargs=model_kwargs, # Pass the model configuration options\n",
    "    encode_kwargs=encode_kwargs # Pass the encoding options\n",
    ")"
   ]
  },
  {
   "cell_type": "code",
   "execution_count": 4,
   "id": "5098bb94",
   "metadata": {},
   "outputs": [
    {
     "data": {
      "text/plain": [
       "93"
      ]
     },
     "execution_count": 4,
     "metadata": {},
     "output_type": "execute_result"
    }
   ],
   "source": [
    "loader = DirectoryLoader(\"./data\", glob=\"*.pdf\", loader_cls=PyPDFLoader)\n",
    "documents = loader.load()\n",
    "len(documents)\n"
   ]
  },
  {
   "cell_type": "code",
   "execution_count": 5,
   "id": "05b005d5",
   "metadata": {},
   "outputs": [
    {
     "data": {
      "text/plain": [
       "522"
      ]
     },
     "execution_count": 5,
     "metadata": {},
     "output_type": "execute_result"
    }
   ],
   "source": [
    "text_splitter = RecursiveCharacterTextSplitter(chunk_size=500, chunk_overlap=100)\n",
    "texts = text_splitter.split_documents(documents)\n",
    "len(texts)"
   ]
  },
  {
   "cell_type": "code",
   "execution_count": 6,
   "id": "6044762c",
   "metadata": {},
   "outputs": [
    {
     "data": {
      "text/plain": [
       "8440"
      ]
     },
     "execution_count": 6,
     "metadata": {},
     "output_type": "execute_result"
    }
   ],
   "source": [
    "# import torch\n",
    "# torch.cuda.empty_cache()\n",
    "# print(torch.cuda.memory_summary(device=None, abbreviated=False))\n",
    "import gc\n",
    "torch.cuda.empty_cache()\n",
    "gc.collect()"
   ]
  },
  {
   "cell_type": "code",
   "execution_count": 7,
   "id": "a808837a",
   "metadata": {},
   "outputs": [],
   "source": [
    "from langchain.vectorstores import Chroma\n",
    "persist_directory = './db'\n",
    "vectordb = Chroma.from_documents(documents=texts, \n",
    "                                 embedding=embedding,\n",
    "                                 persist_directory=persist_directory)\n",
    "vectordb.persist()"
   ]
  },
  {
   "cell_type": "code",
   "execution_count": 8,
   "id": "b3d7d60e",
   "metadata": {},
   "outputs": [
    {
     "data": {
      "text/plain": [
       "'cuda:0'"
      ]
     },
     "execution_count": 8,
     "metadata": {},
     "output_type": "execute_result"
    }
   ],
   "source": [
    "import torch\n",
    "dev = \"cuda:0\" if torch.cuda.is_available() else \"cpu\"\n",
    "dev"
   ]
  },
  {
   "cell_type": "code",
   "execution_count": 9,
   "id": "44f9b467",
   "metadata": {},
   "outputs": [],
   "source": [
    "retriever = vectordb.as_retriever(search_kwargs={'k': 7})"
   ]
  },
  {
   "cell_type": "code",
   "execution_count": 10,
   "id": "a20b2f03",
   "metadata": {},
   "outputs": [],
   "source": [
    "bm25_retriever = BM25Retriever.from_documents(texts)\n",
    "bm25_retriever.k =  5"
   ]
  },
  {
   "cell_type": "code",
   "execution_count": 11,
   "id": "4dde6e86",
   "metadata": {},
   "outputs": [],
   "source": [
    "ensemble_retriever = EnsembleRetriever(retrievers=[bm25_retriever, retriever],\n",
    "                                       weights=[0.3, 0.7])"
   ]
  },
  {
   "cell_type": "code",
   "execution_count": 12,
   "id": "d2ceb1fb",
   "metadata": {},
   "outputs": [
    {
     "data": {
      "text/plain": [
       "[Document(page_content='• Balanced curriculum with engineering, science, humanities and management courses.  \\n• Project based curriculum which emphasizes learning by \\ndoing  \\n• Ample opportunities to do inter -disciplinary courses. \\n• Soft on slow learners by offering important /common courses in all semesters.  \\n• Optional Summer / lnt er-session semester  \\n• Opportunity to gain under graduate research experience.  \\n• Value addition with double Major / Honours  / Minor \\noption.', metadata={'page': 43, 'source': 'data/19.pdf'}),\n",
       " Document(page_content='NPTEL\\tCOURSE\\tREGISTRATION\\t\\tQ22:\\tHow\\tmany\\tNPTEL\\tcourses\\tcan\\tbe\\tregistered\\tper\\tsemester?\\tANS:\\tOnly\\tone\\tcourse\\tcan\\tbe\\tregister\\tper\\tsemester.\\t\\tQ23:\\tWill\\tthe\\tNPTEL\\tcourse\\tcredits\\tconsidered\\twithin\\tthe\\tmaximum\\tlimit\\t27\\tcredits?\\tANS:\\tNo.\\tNPTEL\\tcourse\\tcredit\\twon’t\\tbe\\tconsidered\\twith\\tin\\tmaximum\\t27\\tcredits.\\t\\tQ24:\\tHow\\twill\\tI\\tupload\\tmy\\tNPTEL\\tcertidicate?\\tANS:\\tFirst\\tyou\\tneed\\tto\\tregister\\tthe\\tNPTEL\\tcourse\\twhich\\tyou\\thave\\tenrolled\\t(Approved\\tby\\tSCHOOL)\\tin\\tVTOP.\\tThen\\tyou\\tmust\\tupload\\tit\\tin\\tVTOP.\\t\\tQ25:\\tHow\\tthe', metadata={'page': 3, 'source': 'data/8.pdf'}),\n",
       " Document(page_content='a. Online course should be of advanced level from reputed platforms, namely, NPTEL, \\nCoursera, Khan Academy and edX.  \\nb. The online course proposed by the guide is of Masters  level from any of the reputed \\nplatforms as mentioned.  \\nc. The online course is to be of a minimum duration of 8 weeks and it will carry a credit \\nof 2 irrespective of the duration of the course.  \\nd. The submission of grade sheets as well as certificate to the of fice of Academic Research', metadata={'page': 1, 'source': 'data/14.pdf'}),\n",
       " Document(page_content='DR\\t\\tPRIYA\\tG\\t\\t\\t\\t\\t\\t\\t\\t\\t\\t\\t\\tHoD,\\tB.Tech\\tCSE\\tand\\tBusiness\\tSystems\\t&\\tB.Tech\\tCSE(Bioinformatics)\\t\\t\\tQ71:\\tWhom\\tdo\\tI\\tcontact\\tfor\\tNPTEL\\tqueries?\\tANS:\\t\\tAcademic\\tcoordinator\\tof\\tyour\\tSchool\\t\\tQ72:\\t\\tWhom\\tdo\\tI\\tcontact\\tCDC\\trelated\\tquery?\\tANS:\\t\\tpatqueries.vlr@vit.ac.in\\t\\tQ73:\\tWhom\\tdo\\tI\\tcontact\\tVTOP\\trelated\\tissues?\\tANS:\\thelpdesk.sdc@vit.ac.in\\t\\tQ74:\\tWhom\\tdo\\tI\\tcontact\\tExamination/\\tmark\\tsheet\\trelated\\tquery?\\tANS:\\thelpdesk.coe@vit.ac.in\\t\\tQ75:\\tWhom\\tdo\\tI\\tcontact\\tdinance\\trelated\\tquery?\\tANS:\\thelpdesk.dinance@vit.ac.in', metadata={'page': 10, 'source': 'data/8.pdf'}),\n",
       " Document(page_content='institution.  \\n \\nSchool Level Taught Courses  \\na. The School Level Taught Course (3 credits) is the common course offered by the school \\nfor the research scholars of various guides.  \\nb. This course will be taught by a faculty, identified by the Dean of the School.  \\nc. The syllabus of this course should have been app roved by Board of Studies (BoS) and \\npassed through the Academic Council.  \\n \\nOnline Courses  \\na. Online course should be of advanced level from reputed platforms, namely, NPTEL,', metadata={'page': 1, 'source': 'data/14.pdf'}),\n",
       " Document(page_content='ade\\twill\\tbe\\tdone?\\tANS:\\tSchool\\tCommittee\\t(Course\\tCoordinator\\t/\\tHoD\\t/\\tDean)\\tis\\tresponsible\\tto\\tverify\\tthe\\tcourse\\ttitle\\t/\\tcontent\\tof\\tthe\\tcourse\\tcompleted\\tby\\tthe\\tstudent\\tthrough\\tSemester\\tAbroad\\tProgram\\tand\\trecommend\\tthe\\tnumber\\tof\\tcredits\\tto\\tbe\\tconsidered\\tunder\\teach\\tcategory\\t(Programme\\tElective\\t/\\tDiscipline\\tElective\\tand\\tUniversity\\tElective\\t/\\tOpen\\tElective)\\tand\\tthe\\tGrade\\tto\\tbe\\tawarded.\\t\\t_____________________________________________________________________________________________________', metadata={'source': 'data/8.pdf', 'page': 5}),\n",
       " Document(page_content='DR\\t\\tPRIYA\\tG\\t\\t\\t\\t\\t\\t\\t\\t\\t\\t\\t\\tHoD,\\tB.Tech\\tCSE\\tand\\tBusiness\\tSystems\\t&\\tB.Tech\\tCSE(Bioinformatics)\\tQ39:\\tWhich\\tare\\tthe\\tcategories\\twill\\tbe\\tconsidered\\tfor\\tcredit\\ttransfer?\\tANS:\\tCredit\\tTransfer\\twill\\tbe\\tconsidered\\tonly\\tfor\\tthe\\tcourses\\tunder\\tProgramme\\tElective\\t/\\tDiscipline\\tElective\\tand\\tUniversity\\tElective\\t/\\tOpen\\tElective\\tcategory.\\t\\t\\tQ40:\\tHow\\tCourse\\tTitle\\t/\\tContent\\tVerification\\tfor\\tCredit\\tTransfer\\tand\\taward\\tof\\tGrade\\twill\\tbe\\tdone?\\tANS:\\tSchool\\tCommittee\\t(Course\\tCoordinator\\t/\\tHoD\\t/\\tDean)\\tis\\tresponsible\\tto\\tverify\\tt', metadata={'source': 'data/8.pdf', 'page': 5}),\n",
       " Document(page_content='A flowchart  describing  how various  courses  under  Program  Core  (PC),  Program  Elective  \\n(PE) and University  Core  (UC) are connected  through  prerequisites,  if any, shall  be shown  \\nand made  part of the curriculum.  Standard  pictorial  representations are  adopted to indicate  \\nthe basket (UC, PC or PE) it belongs to and is grouped  in such  a way as to indicate the level of \\nthe course.  Necessary  pre-, anti-, co- requisites  and its LTPJC  should be  indicated  for each', metadata={'source': 'data/19.pdf', 'page': 7}),\n",
       " Document(page_content='6.4.2 Program  Core  (PC) \\n \\nCourses listed  under  Program  Core of a curriculum are program  specific . Students  have to \\ncomplete  all the courses  listed  under  PC to become eligible  for the degree.   \\n \\n6.4.3  Program  Elective  \\n \\nBy taking courses  under  Program  Elective,  students  get an opportunity  to study  courses  which \\nare more  advanced  or applied  or specialized  than  the basic  courses  he/she  studies as part of', metadata={'source': 'data/19.pdf', 'page': 10}),\n",
       " Document(page_content='courses from dif ferent disciplines should be included in the curriculum.   \\n \\n6.4  Course  Distribution   \\n  \\nIn general, t he curriculum of each  program  consists  of courses  that are grouped  into University  \\nCore  (UC),  Program  Core  (PC),  Program  Elective  (PE) and University Elective (UE).  \\n \\n6.4.1 University  Core (UC) \\n \\nCourses listed  under  University Core  are mandatory to all similar  degree  program s (B.Tech .,', metadata={'source': 'data/19.pdf', 'page': 10})]"
      ]
     },
     "execution_count": 12,
     "metadata": {},
     "output_type": "execute_result"
    }
   ],
   "source": [
    "ensemble_retriever.get_relevant_documents(\"NPTEL is it a Discipline Core or Open Elective or something else\")"
   ]
  },
  {
   "cell_type": "code",
   "execution_count": 13,
   "id": "ef5f51d8",
   "metadata": {},
   "outputs": [],
   "source": [
    "from langchain.chains import RetrievalQA\n",
    "\n",
    "qa_chain = RetrievalQA.from_chain_type(llm=llm, \n",
    "                                  retriever=ensemble_retriever,\n",
    "                                  return_source_documents=True)\n",
    "     "
   ]
  },
  {
   "cell_type": "code",
   "execution_count": 14,
   "id": "b9790dfb",
   "metadata": {},
   "outputs": [],
   "source": [
    "def process_llm_response(query):\n",
    "    llm_response = qa_chain(query)\n",
    "    return llm_response['result']\n",
    "    print('\\n\\nSources:')\n",
    "    for source in llm_response[\"source_documents\"]:\n",
    "        print(source.metadata['source'])"
   ]
  },
  {
   "cell_type": "code",
   "execution_count": 15,
   "id": "773db92e",
   "metadata": {},
   "outputs": [
    {
     "name": "stdout",
     "output_type": "stream",
     "text": [
      " NPTEL courses can be registered as Open Electives since they are not specific to any particular discipline. However, they should meet the advanced level requirement from reputed platforms such as NPTEL, Coursera, Khan Academy, and edX."
     ]
    },
    {
     "data": {
      "text/plain": [
       "' NPTEL courses can be registered as Open Electives since they are not specific to any particular discipline. However, they should meet the advanced level requirement from reputed platforms such as NPTEL, Coursera, Khan Academy, and edX.'"
      ]
     },
     "execution_count": 15,
     "metadata": {},
     "output_type": "execute_result"
    }
   ],
   "source": [
    "query = \"NPTEL is it a Discipline Core or Open Elective or something else\"\n",
    "process_llm_response(query)\n",
    "# qa_chain(query)"
   ]
  }
 ],
 "metadata": {
  "kernelspec": {
   "display_name": "Python 3 (ipykernel)",
   "language": "python",
   "name": "python3"
  },
  "language_info": {
   "codemirror_mode": {
    "name": "ipython",
    "version": 3
   },
   "file_extension": ".py",
   "mimetype": "text/x-python",
   "name": "python",
   "nbconvert_exporter": "python",
   "pygments_lexer": "ipython3",
   "version": "3.10.12"
  }
 },
 "nbformat": 4,
 "nbformat_minor": 5
}
