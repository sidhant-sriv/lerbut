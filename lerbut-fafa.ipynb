{
 "cells": [
  {
   "cell_type": "code",
   "execution_count": 1,
   "id": "68ee78d5",
   "metadata": {},
   "outputs": [],
   "source": [
    "from langchain.llms import Ollama\n",
    "from langchain.callbacks.manager import CallbackManager\n",
    "from langchain.callbacks.streaming_stdout import StreamingStdOutCallbackHandler\n",
    "from langchain_community.document_loaders import PyPDFLoader\n",
    "from langchain.document_loaders import DirectoryLoader\n",
    "from langchain.text_splitter import RecursiveCharacterTextSplitter\n",
    "from langchain.embeddings import HuggingFaceEmbeddings\n",
    "from langchain.retrievers import BM25Retriever, EnsembleRetriever\n",
    "import torch\n"
   ]
  },
  {
   "cell_type": "code",
   "execution_count": 2,
   "metadata": {},
   "outputs": [],
   "source": [
    "llm = Ollama(model=\"mistral\",  callbacks=CallbackManager([StreamingStdOutCallbackHandler()]),num_gpu=1, base_url=\"http://localhost:11434\")"
   ]
  },
  {
   "cell_type": "code",
   "execution_count": 3,
   "metadata": {},
   "outputs": [
    {
     "name": "stderr",
     "output_type": "stream",
     "text": [
      "/home/sid/.local/lib/python3.10/site-packages/tqdm/auto.py:21: TqdmWarning: IProgress not found. Please update jupyter and ipywidgets. See https://ipywidgets.readthedocs.io/en/stable/user_install.html\n",
      "  from .autonotebook import tqdm as notebook_tqdm\n"
     ]
    }
   ],
   "source": [
    "modelPath = \"BAAI/bge-large-en-v1.5\"\n",
    "\n",
    "# Create a dictionary with model configuration options, specifying to use the CPU for computations\n",
    "model_kwargs = {'device':'cuda:0'}\n",
    "encode_kwargs = {'normalize_embeddings': True}\n",
    "\n",
    "# Initialize an instance of HuggingFaceEmbeddings with the specified parameters\n",
    "embedding = HuggingFaceEmbeddings(\n",
    "    model_name=modelPath,     # Provide the pre-trained model's path\n",
    "    model_kwargs=model_kwargs, # Pass the model configuration options\n",
    "    encode_kwargs=encode_kwargs # Pass the encoding options\n",
    ")"
   ]
  },
  {
   "cell_type": "code",
   "execution_count": 4,
   "id": "5098bb94",
   "metadata": {},
   "outputs": [
    {
     "data": {
      "text/plain": [
       "91"
      ]
     },
     "execution_count": 4,
     "metadata": {},
     "output_type": "execute_result"
    }
   ],
   "source": [
    "loader = DirectoryLoader(\"./data\", glob=\"*.pdf\", loader_cls=PyPDFLoader)\n",
    "documents = loader.load()\n",
    "len(documents)\n"
   ]
  },
  {
   "cell_type": "code",
   "execution_count": 5,
   "metadata": {},
   "outputs": [
    {
     "data": {
      "text/plain": [
       "461"
      ]
     },
     "execution_count": 5,
     "metadata": {},
     "output_type": "execute_result"
    }
   ],
   "source": [
    "text_splitter = RecursiveCharacterTextSplitter(chunk_size=500, chunk_overlap=0)\n",
    "texts = text_splitter.split_documents(documents)\n",
    "len(texts)"
   ]
  },
  {
   "cell_type": "code",
   "execution_count": 6,
   "metadata": {},
   "outputs": [
    {
     "data": {
      "text/plain": [
       "1276"
      ]
     },
     "execution_count": 6,
     "metadata": {},
     "output_type": "execute_result"
    }
   ],
   "source": [
    "# import torch\n",
    "# torch.cuda.empty_cache()\n",
    "# print(torch.cuda.memory_summary(device=None, abbreviated=False))\n",
    "import gc\n",
    "torch.cuda.empty_cache()\n",
    "gc.collect()"
   ]
  },
  {
   "cell_type": "code",
   "execution_count": 8,
   "metadata": {},
   "outputs": [],
   "source": [
    "from langchain.vectorstores import Chroma\n",
    "persist_directory = './db'\n",
    "vectordb = Chroma.from_documents(documents=texts, \n",
    "                                 embedding=embedding,\n",
    "                                 persist_directory=persist_directory)\n",
    "vectordb.persist()"
   ]
  },
  {
   "cell_type": "code",
   "execution_count": 9,
   "metadata": {},
   "outputs": [
    {
     "data": {
      "text/plain": [
       "'cuda:0'"
      ]
     },
     "execution_count": 9,
     "metadata": {},
     "output_type": "execute_result"
    }
   ],
   "source": [
    "import torch\n",
    "dev = \"cuda:0\" if torch.cuda.is_available() else \"cpu\"\n",
    "dev"
   ]
  },
  {
   "cell_type": "code",
   "execution_count": 10,
   "metadata": {},
   "outputs": [],
   "source": [
    "retriever = vectordb.as_retriever(search_kwargs={'k': 7})"
   ]
  },
  {
   "cell_type": "code",
   "execution_count": 11,
   "id": "a20b2f03",
   "metadata": {},
   "outputs": [],
   "source": [
    "bm25_retriever = BM25Retriever.from_documents(texts)\n",
    "bm25_retriever.k =  5"
   ]
  },
  {
   "cell_type": "code",
   "execution_count": 12,
   "id": "4dde6e86",
   "metadata": {},
   "outputs": [],
   "source": [
    "ensemble_retriever = EnsembleRetriever(retrievers=[bm25_retriever, retriever],\n",
    "                                       weights=[0.3, 0.7])"
   ]
  },
  {
   "cell_type": "code",
   "execution_count": 12,
   "id": "d2ceb1fb",
   "metadata": {},
   "outputs": [
    {
     "data": {
      "text/plain": [
       "[Document(page_content='4. Choose the option ID  \\n\\uf0b7 For scholars admitted in 2019 , the default option ID is 13  and for the \\nscholars admitted in 2020 , the default option ID is 17 . \\n\\uf0b7 For the scholars admitted in 2018 or before , please select the \\nappropriate option ID from t he list. (To know the available \\noptions ,  Option Details - Click Here  ) \\n5. Select appropriate Course Type  for each course.  \\n \\nCourse Type   Description  \\nResearch Methodology  Research Methodology course', metadata={'page': 1, 'source': 'data/0.pdf'}),\n",
       " Document(page_content='scholar shall be the first author with the Guide as the corresponding author. If there is \\nan approved Co -Guide, he/she can be a co -author in the publications  \\n8.    There shall not be more than two  Guides for a research scholar.  \\n  \\nResearch Regulations applicable to the scholars who were admitted from 2015 to \\n2018  \\nPh.D. Regulations 2015 and 2017 shall continue and the following amendment to \\nbe incorporated to the existing 2015 and 2017  regulations to take care of the concerns of', metadata={'page': 0, 'source': 'data/17.pdf'}),\n",
       " Document(page_content='(Minimum of 8 -week courses to be taken from MOOC platforms such as NPTEL, \\nCoursera, Khan Academy, edx, etc. ) \\n5. Upload the DAC signed copy of syllabus  \\n \\nStep 2. Course allocation to the Scholars  \\n1. Please go to  Research \\uf0e0 Coursework Allocation  \\n2. For the scholars admitted till 2017, select Research Scholars – Pre 2018 and  \\nFor the scholars admitted from 2018, select Research Scholars – 2018  \\n3. In the Course Allocation by Guide  page, choose the Register Number  of the \\nScholar.', metadata={'source': 'data/0.pdf', 'page': 1}),\n",
       " Document(page_content='4. FOR SCHOLARS WHO WERE ADMITTED FROM 2019:  (Approved in 56th \\nAcademic Council of VIT held on 24/09/2019 and amendment in the core committee held \\non 13/2/23)  \\n \\n\\uf0b7 For scholars from Science, Engineering and Technology, a minimum of two Scopus-\\nindexed peer-reviewed research paper publications with impact factor is required .  \\n\\uf0b7 For scholars from Management and Law a minimum of two peer-reviewed Scopus \\nindexed research paper publications are required.', metadata={'page': 1, 'source': 'data/10.pdf'}),\n",
       " Document(page_content='For Scholars admitted till 2018  \\n \\nPh.D Programme : \\n\\uf0b7 Four  courses with a minimum of 12  Credits  \\n\\uf0b7 Please refer the VTOP for various options available.  \\n \\nIntegrated Ph.D. Programme  \\n\\uf0b7 Eight  courses with a minimum of 25  Credits  \\n\\uf0b7 Please refer the VTOP for various options available.  \\n*** \\n \\nImportant Guidelines  \\n \\nPG Level courses  \\na. The PG level course that is recommended by the DC should not have been studied by \\nthe scholars in their PG programme.', metadata={'source': 'data/14.pdf', 'page': 1}),\n",
       " Document(page_content='admission to various program s every year.', metadata={'page': 5, 'source': 'data/19.pdf'}),\n",
       " Document(page_content='3. FOR SCHOLARS WHO WERE ADMITTED IN 2017 & 2018: (Approved in 48th \\nAcademic Council of VIT held on 14/12/2017 and amendment in the core committee held \\non 13/2/23)  \\nA minimum of two refereed Scopus Indexed Journal publications, of which one Journal \\npublication with impact factor . The Scholar will be the first author and the guide \\nshould be the corresponding author . Here, multiple authors are not allowed other than \\nthe approved Research Advisor, if any.', metadata={'page': 0, 'source': 'data/10.pdf'}),\n",
       " Document(page_content='number  appropriately.  Students  admitted  into a program  shall adopt  a curriculum  specified  \\nby the Academic  Council  for that academic year.  Unless  otherwise stated  explicitly  by the \\nAcademic Council,  any changes  in curriculum  will be applicable to the students  admitted  in \\nthe subsequent  year and the existing  batches  continue to follow  the curriculum  prescribed  \\nat the time of their  joining  the program . Due to FFCs, it is possible that some students registe r', metadata={'source': 'data/19.pdf', 'page': 6}),\n",
       " Document(page_content='2. FOR SCHOLARS WHO WERE ADMITTED IN 2015 & 2016: (Approved in 37th \\nAcademic Council of VIT held on 16/6/2015 and amendment in the core committee held \\non 13/2/23)  \\nA minimum of two refereed Scopus Indexed Journal publications, in which the scholar \\nwill be the first author and the guide will be the corresponding author. Here, multiple \\nauthors are not allowed other than the approved Research Advisor, if any.', metadata={'page': 0, 'source': 'data/10.pdf'}),\n",
       " Document(page_content='Office of Academic Research  \\nNorms for Co – Guide  \\nPh.D. Regulations 2019 shall continue and the following amendment to be  incorporated to \\nthe existing 2019 regulations to take care of the concerns of different stake holders.  (As per \\n66th Academic council Minutes approved on 16/6/2022)  \\nCo- guide:  \\n A Co - guide can be permitted under the following circumstances:  \\n1.    If the scholar is a project staff, Co -Principal Investigator (Co -PI) of the project working', metadata={'page': 0, 'source': 'data/17.pdf'})]"
      ]
     },
     "execution_count": 12,
     "metadata": {},
     "output_type": "execute_result"
    }
   ],
   "source": [
    "ensemble_retriever.get_relevant_documents(\"scholars admitted in 2019, 17\")"
   ]
  },
  {
   "cell_type": "code",
   "execution_count": 13,
   "metadata": {},
   "outputs": [],
   "source": [
    "from langchain.chains import RetrievalQA\n",
    "\n",
    "qa_chain = RetrievalQA.from_chain_type(llm=llm, \n",
    "                                  retriever=ensemble_retriever,\n",
    "                                  return_source_documents=True)\n",
    "     "
   ]
  },
  {
   "cell_type": "code",
   "execution_count": 15,
   "metadata": {},
   "outputs": [],
   "source": [
    "def process_llm_response(query):\n",
    "    llm_response = qa_chain(query)\n",
    "    return llm_response['result']\n",
    "    print('\\n\\nSources:')\n",
    "    for source in llm_response[\"source_documents\"]:\n",
    "        print(source.metadata['source'])"
   ]
  },
  {
   "cell_type": "code",
   "execution_count": 21,
   "metadata": {},
   "outputs": [
    {
     "name": "stdout",
     "output_type": "stream",
     "text": [
      " To participate in VIT's Semester Abroad Program, you need to be an undergraduate or final year student from any stream. You should register for additional 'honours' program elective courses listed in your curriculum to earn the 'Honours' credential. Students are not forced to take courses other than those prescribed under the 'honours' list as pre-requisite courses. You will carry out your Capstone Project in the campus of the University Abroad under the guidance of a Faculty member from that University and a guide from VIT. The progress of the work is monitored by both guides, and the final viva voce examination for the project will be conducted in VIT after successful completion.\n",
      "\n",
      "You will need to follow the procedure given for paper seeing and reevaluation, if required, with payment of ₹100 for paper seeing and ₹300 for reevaluation. If your reevaluation mark is lesser than your actual mark, the best of the two marks will be considered.\n",
      "\n",
      "You may contact different departments or authorities for various queries: academic coordinator for NPTEL queries, [patqueries.vlr@vit.ac.in] for CDC related queries, [helpdesk.sdc@vit.ac.in] for VTOP related issues, and [helpdesk.coe@vit.ac.in] or the finance helpdesk [helpdesk.dinance@vit.ac.in] for examination/mark sheet and finance-related queries respectively.\n",
      "\n",
      "You will need to pay additional fees while doing registration as per the requirements."
     ]
    },
    {
     "data": {
      "text/plain": [
       "\" To participate in VIT's Semester Abroad Program, you need to be an undergraduate or final year student from any stream. You should register for additional 'honours' program elective courses listed in your curriculum to earn the 'Honours' credential. Students are not forced to take courses other than those prescribed under the 'honours' list as pre-requisite courses. You will carry out your Capstone Project in the campus of the University Abroad under the guidance of a Faculty member from that University and a guide from VIT. The progress of the work is monitored by both guides, and the final viva voce examination for the project will be conducted in VIT after successful completion.\\n\\nYou will need to follow the procedure given for paper seeing and reevaluation, if required, with payment of ₹100 for paper seeing and ₹300 for reevaluation. If your reevaluation mark is lesser than your actual mark, the best of the two marks will be considered.\\n\\nYou may contact different departments or authorities for various queries: academic coordinator for NPTEL queries, [patqueries.vlr@vit.ac.in] for CDC related queries, [helpdesk.sdc@vit.ac.in] for VTOP related issues, and [helpdesk.coe@vit.ac.in] or the finance helpdesk [helpdesk.dinance@vit.ac.in] for examination/mark sheet and finance-related queries respectively.\\n\\nYou will need to pay additional fees while doing registration as per the requirements.\""
      ]
     },
     "execution_count": 21,
     "metadata": {},
     "output_type": "execute_result"
    }
   ],
   "source": [
    "query = \"What do I need for Semester Abroad?\"\n",
    "process_llm_response(query)\n",
    "# qa_chain(query)"
   ]
  },
  {
   "cell_type": "code",
   "execution_count": null,
   "id": "e505815e",
   "metadata": {},
   "outputs": [],
   "source": [
    "def main():\n",
    "    st.title(\"VIT QA System\")\n",
    "    user_input = st.text_area(\"Enter Query\")\n",
    "\n",
    "    if st.button(\"Get response\"):\n",
    "        result = process_llm_response(user_input)\n",
    "        st.write(\"Response:\")\n",
    "        # make text bigger\n",
    "        st.write(f\"**{result}**\")\n",
    "main()"
   ]
  }
 ],
 "metadata": {
  "kernelspec": {
   "display_name": "Python 3 (ipykernel)",
   "language": "python",
   "name": "python3"
  },
  "language_info": {
   "codemirror_mode": {
    "name": "ipython",
    "version": 3
   },
   "file_extension": ".py",
   "mimetype": "text/x-python",
   "name": "python",
   "nbconvert_exporter": "python",
   "pygments_lexer": "ipython3",
   "version": "3.10.12"
  }
 },
 "nbformat": 4,
 "nbformat_minor": 5
}
