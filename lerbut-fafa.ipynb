{
 "cells": [
  {
   "cell_type": "code",
   "execution_count": 1,
   "id": "68ee78d5",
   "metadata": {},
   "outputs": [],
   "source": [
    "from langchain.llms import Ollama\n",
    "from langchain.callbacks.manager import CallbackManager\n",
    "from langchain.callbacks.streaming_stdout import StreamingStdOutCallbackHandler\n",
    "from langchain_community.document_loaders import PyPDFLoader\n",
    "from langchain.document_loaders import DirectoryLoader\n",
    "from langchain.text_splitter import RecursiveCharacterTextSplitter\n",
    "from langchain.embeddings import HuggingFaceEmbeddings\n",
    "from langchain.retrievers import BM25Retriever, EnsembleRetriever\n",
    "import torch\n"
   ]
  },
  {
   "cell_type": "code",
   "execution_count": 26,
   "id": "8ab2bdec",
   "metadata": {},
   "outputs": [],
   "source": [
    "import os\n",
    "\n",
    "from dotenv import load_dotenv\n",
    "from langchain_google_genai import ChatGoogleGenerativeAI\n",
    "from langchain.prompts import PromptTemplate\n",
    "from langchain.chains import LLMChain\n",
    "\n",
    "load_dotenv()\n",
    "\n",
    "GOOGLE_API_KEY = os.getenv(\"GOOGLE_API_KEY\")\n",
    "\n",
    "llm = ChatGoogleGenerativeAI(model=\"gemini-pro\", convert_system_message_to_human=True, google_api_key=GOOGLE_API_KEY)\n",
    "\n",
    "\n"
   ]
  },
  {
   "cell_type": "code",
   "execution_count": 2,
   "id": "31a7cf57",
   "metadata": {},
   "outputs": [],
   "source": [
    "import os\n",
    "from dotenv import load_dotenv\n",
    "load_dotenv()\n",
    "\n",
    "key = os.getenv(\"OPENAI_KEY\")\n",
    "from langchain.chains import LLMChain\n",
    "from langchain.prompts import PromptTemplate\n",
    "from langchain_openai import OpenAI\n",
    "llm = OpenAI(openai_api_key=key)"
   ]
  },
  {
   "cell_type": "code",
   "execution_count": 40,
   "metadata": {},
   "outputs": [],
   "source": [
    "llm = Ollama(model=\"mistral\",  callbacks=CallbackManager([StreamingStdOutCallbackHandler()]),num_gpu=1, base_url=\"http://localhost:11434\")"
   ]
  },
  {
   "cell_type": "code",
   "execution_count": null,
   "metadata": {},
   "outputs": [
    {
     "name": "stderr",
     "output_type": "stream",
     "text": [
      "/home/sid/.local/lib/python3.10/site-packages/tqdm/auto.py:21: TqdmWarning: IProgress not found. Please update jupyter and ipywidgets. See https://ipywidgets.readthedocs.io/en/stable/user_install.html\n",
      "  from .autonotebook import tqdm as notebook_tqdm\n"
     ]
    }
   ],
   "source": [
    "modelPath = \"BAAI/bge-large-en-v1.5\"\n",
    "\n",
    "# Create a dictionary with model configuration options, specifying to use the CPU for computations\n",
    "model_kwargs = {'device':'cuda:0'}\n",
    "encode_kwargs = {'normalize_embeddings': True}\n",
    "\n",
    "# Initialize an instance of HuggingFaceEmbeddings with the specified parameters\n",
    "embedding = HuggingFaceEmbeddings(\n",
    "    model_name=modelPath,     # Provide the pre-trained model's path\n",
    "    model_kwargs=model_kwargs, # Pass the model configuration options\n",
    "    encode_kwargs=encode_kwargs # Pass the encoding options\n",
    ")"
   ]
  },
  {
   "cell_type": "code",
   "execution_count": 3,
   "id": "eaa788a6",
   "metadata": {},
   "outputs": [],
   "source": [
    "from langchain_openai import OpenAIEmbeddings\n",
    "embedding = OpenAIEmbeddings(model=\"text-embedding-ada-002\", openai_api_key=key)\n"
   ]
  },
  {
   "cell_type": "code",
   "execution_count": 21,
   "id": "5098bb94",
   "metadata": {},
   "outputs": [
    {
     "data": {
      "text/plain": [
       "91"
      ]
     },
     "execution_count": 21,
     "metadata": {},
     "output_type": "execute_result"
    }
   ],
   "source": [
    "loader = DirectoryLoader(\"./data\", glob=\"*.pdf\", loader_cls=PyPDFLoader)\n",
    "# loader = DirectoryLoader(\"/home/sid/Documents\", glob=\"*.pdf\", loader_cls=PyPDFLoader)\n",
    "documents = loader.load()\n",
    "len(documents)\n"
   ]
  },
  {
   "cell_type": "code",
   "execution_count": 22,
   "metadata": {},
   "outputs": [
    {
     "data": {
      "text/plain": [
       "250"
      ]
     },
     "execution_count": 22,
     "metadata": {},
     "output_type": "execute_result"
    }
   ],
   "source": [
    "text_splitter = RecursiveCharacterTextSplitter(chunk_size=1000, chunk_overlap=0)\n",
    "texts = text_splitter.split_documents(documents)\n",
    "len(texts)"
   ]
  },
  {
   "cell_type": "code",
   "execution_count": 23,
   "metadata": {},
   "outputs": [
    {
     "data": {
      "text/plain": [
       "15310"
      ]
     },
     "execution_count": 23,
     "metadata": {},
     "output_type": "execute_result"
    }
   ],
   "source": [
    "# import torch\n",
    "# torch.cuda.empty_cache()\n",
    "# print(torch.cuda.memory_summary(device=None, abbreviated=False))\n",
    "import gc\n",
    "torch.cuda.empty_cache()\n",
    "gc.collect()"
   ]
  },
  {
   "cell_type": "code",
   "execution_count": 24,
   "metadata": {},
   "outputs": [],
   "source": [
    "from langchain.vectorstores import Chroma\n",
    "persist_directory = './db'\n",
    "vectordb = Chroma.from_documents(documents=texts, \n",
    "                                 embedding=embedding,\n",
    "                                 persist_directory=persist_directory)\n",
    "vectordb.persist()"
   ]
  },
  {
   "cell_type": "code",
   "execution_count": 25,
   "metadata": {},
   "outputs": [
    {
     "data": {
      "text/plain": [
       "'cuda:0'"
      ]
     },
     "execution_count": 25,
     "metadata": {},
     "output_type": "execute_result"
    }
   ],
   "source": [
    "dev = \"cuda:0\" if torch.cuda.is_available() else \"cpu\"\n",
    "dev"
   ]
  },
  {
   "cell_type": "code",
   "execution_count": 26,
   "metadata": {},
   "outputs": [],
   "source": [
    "retriever = vectordb.as_retriever(search_kwargs={'k': 10})"
   ]
  },
  {
   "cell_type": "code",
   "execution_count": 27,
   "id": "a20b2f03",
   "metadata": {},
   "outputs": [],
   "source": [
    "bm25_retriever = BM25Retriever.from_documents(texts)\n",
    "bm25_retriever.k =  7"
   ]
  },
  {
   "cell_type": "code",
   "execution_count": 28,
   "id": "4dde6e86",
   "metadata": {},
   "outputs": [],
   "source": [
    "ensemble_retriever = EnsembleRetriever(retrievers=[bm25_retriever, retriever],\n",
    "                                       weights=[0.3, 0.7])"
   ]
  },
  {
   "cell_type": "code",
   "execution_count": 29,
   "id": "d2ceb1fb",
   "metadata": {},
   "outputs": [
    {
     "data": {
      "text/plain": [
       "[Document(page_content='____________________________________________________', metadata={'page': 3, 'source': 'data/8.pdf'}),\n",
       " Document(page_content='embedded project component.  \\n•Focus on experiential learning.  \\n•Courses made student- centric \\nrather than teacher -centric . \\n•Students to take up real world \\nproblems and focus on multi -\\ndisciplinary and cross -disciplinary \\nprojects . \\n•Importance given to creativity, \\ninnovation and development of \\nentrepreneurship skills .', metadata={'page': 43, 'source': 'data/19.pdf'}),\n",
       " Document(page_content='____________________________________', metadata={'page': 6, 'source': 'data/8.pdf'}),\n",
       " Document(page_content='•40% of the courses to have \\nembedded project component.  \\n•Focus on experiential learning.  \\n•Courses made student- centric \\nrather than teacher -centric . \\n•Students to take up real world \\nproblems and focus on multi -\\ndisciplinary and cross -disciplinary \\nprojects . \\n•Importance given to creativity, \\ninnovation and development of \\nentrepreneurship skills .', metadata={'page': 43, 'source': 'data/19.pdf'}),\n",
       " Document(page_content='their program .', metadata={'page': 16, 'source': 'data/19.pdf'}),\n",
       " Document(page_content='18  9.2. Questions based on HOTS  \\n \\nTo test the learner’s skills,  involving  analysis, evaluation  and synthesis, acquired by \\nthe students in their progression,  questions  based  on Higher  Order Thinking  Skill (HOTS)  is \\nhas been introduced  in all CATs and FAT examinations.  As per the dictum provided in \\nBloom’s taxonomy, the easiest way of acquiring knowledge is to learn the facts by heart,', metadata={'page': 21, 'source': 'data/19.pdf'}),\n",
       " Document(page_content='_____________________________________', metadata={'page': 2, 'source': 'data/8.pdf'}),\n",
       " Document(page_content='class / lab and the course faculty . Since  they can make their own time table, each  student  in a \\nclass  may have  a different  timetable of his/her  own.  In order  to make  the learning  more  \\neffective, Project  Based  Learning  (PBL) was  introduced  in 2010,  in which the student  \\napplies  the course  principle s by using  analytical and critical  thinking , creating  an opportunity \\nto carry  out challenging project(s)  as part of a course.', metadata={'page': 4, 'source': 'data/19.pdf'}),\n",
       " Document(page_content='Scholars are advised  to be careful in configuration , as it is not possible  to change once  again .', metadata={'page': 0, 'source': 'data/9.pdf'}),\n",
       " Document(page_content='NPTEL\\tCOURSE\\tREGISTRATION\\t\\tQ22:\\tHow\\tmany\\tNPTEL\\tcourses\\tcan\\tbe\\tregistered\\tper\\tsemester?\\tANS:\\tOnly\\tone\\tcourse\\tcan\\tbe\\tregister\\tper\\tsemester.\\t\\tQ23:\\tWill\\tthe\\tNPTEL\\tcourse\\tcredits\\tconsidered\\twithin\\tthe\\tmaximum\\tlimit\\t27\\tcredits?\\tANS:\\tNo.\\tNPTEL\\tcourse\\tcredit\\twon’t\\tbe\\tconsidered\\twith\\tin\\tmaximum\\t27\\tcredits.\\t\\tQ24:\\tHow\\twill\\tI\\tupload\\tmy\\tNPTEL\\tcertidicate?\\tANS:\\tFirst\\tyou\\tneed\\tto\\tregister\\tthe\\tNPTEL\\tcourse\\twhich\\tyou\\thave\\tenrolled\\t(Approved\\tby\\tSCHOOL)\\tin\\tVTOP.\\tThen\\tyou\\tmust\\tupload\\tit\\tin\\tVTOP.\\t\\tQ25:\\tHow\\tthe\\tgrade\\twill\\tbe\\tgenerated\\tfor\\tthe\\tNPTEL?\\tBased\\ton\\tthe\\tdinal\\tmark,\\tequivalent\\tgrade\\twill\\tbe\\tdisplayed.\\t\\t_____________________________________________________________________________________________________', metadata={'source': 'data/8.pdf', 'page': 3}),\n",
       " Document(page_content='REGISTRATION\\tQUERIES\\t\\tQ1:\\t\\tHow\\twill\\tI\\tknow\\tthe\\tlist\\tof\\tcourses\\tto\\tbe\\tregistered\\tfor\\tevery\\tsemester?\\tANS:\\tYou\\twill\\tget\\tthe\\ttentative\\tlist\\tof\\tcourses\\tto\\tbe\\toffered\\tfrom\\tyour\\tHoD.\\t\\tQ2:\\tIs\\tthere\\tWishlist\\tregistration\\tpossible\\tbefore\\tactual\\tregistration?\\tANS:\\tYes,\\tit\\tis\\tmandatory\\tto\\tattend\\tthe\\tWishlist\\tregistration.\\t\\tSchool\\twill\\tplan\\taccordingly\\tto\\toffer\\tthe\\tcourses.\\t\\tQ3:\\tWhat\\tis\\tthe\\tminimum\\tand\\tmaximum\\tcredits\\tallowed\\tper\\tsemester?\\tANS:\\tMinimum\\tcredit:16\\tand\\tMaximum\\tcredit:27\\t\\tQ4.\\tAny\\tsuggestion\\tto\\tregister\\tthe\\tcourses\\twithout\\tslot\\tclash?\\tANS:\\tIf\\ttheory\\tis\\tregistered\\tin\\tmorning\\tslot,\\tthen\\tlabs\\tshould\\tbe\\tin\\tthe\\tafternoon\\tand\\tvice\\tversa.\\t\\tQ5.\\tHow\\twill\\tI\\tdrop\\tmy\\tcourse\\twhich\\tI\\tregistered\\tduring\\tthe\\tregistration\\tprocess?\\tANS:\\tFirst\\tthree\\tdays\\tfrom\\tthe\\tdirst\\tinstructional\\tday\\tof\\tthe\\tsemester,\\tstudents\\tmay\\tadd\\tor\\tdrop\\tthe\\tcourse\\twhich\\tyou\\thave\\tadded\\talready.\\t\\t\\t_____________________________________________________________________________________________________', metadata={'source': 'data/8.pdf', 'page': 1}),\n",
       " Document(page_content='DR\\t\\tPRIYA\\tG\\t\\t\\t\\t\\t\\t\\t\\t\\t\\t\\t\\tHoD,\\tB.Tech\\tCSE\\tand\\tBusiness\\tSystems\\t&\\tB.Tech\\tCSE(Bioinformatics)\\t\\tQ10:\\tHow\\tcan\\twe\\tpay\\tthe\\tfees?\\tANS:\\tIn\\tyour\\ttimetable,\\tyou\\twill\\tdind\\tinvoice\\tgenerate\\toption\\tagainst\\tthe\\tcourse\\twhat\\tyou\\thave\\tregistered.\\tOnce\\tit\\tis\\tgenerated\\tthen\\tyou\\tcan\\tdo\\tthe\\tpayment\\tthrough\\tPayment\\tgateway.\\t\\t\\tQ11:\\tHow\\tmany\\tdays\\tthe\\tpayment\\tlink\\tis\\tenabled\\tafter\\tthe\\tinvoice\\tgeneration?\\tANS:\\tYou\\tcan\\tdo\\tthe\\tpayment\\twithin\\tthree\\tdays\\tafter\\tthe\\tinvoice\\tgeneration.\\tOtherwise,\\tyou\\tneed\\tto\\tgenerate\\tthe\\tinvoice\\tagain.\\t\\t_____________________________________________________________________________________________________', metadata={'source': 'data/8.pdf', 'page': 2}),\n",
       " Document(page_content='arrear\\texam\\tonly\\tfor\\tthe\\tfailed\\tcomponent?\\tANS:\\tNo,\\tyou\\tneed\\tto\\twrite\\tall\\tcomponents\\t(theory\\tand\\tlaboratory)\\tof\\ta\\tcourse.\\t\\tQ65:\\tHow\\tmany\\tattempts\\tare\\tallowed\\tin\\ttaking\\tthe\\tarrear\\texams?\\tANS:\\tThere\\tis\\tno\\tlimit\\ton\\tthe\\tnumber\\tof\\tattempts\\tunder\\tthe\\tarrear\\toption.\\t\\tQ66:\\tIf\\tI\\tfail\\tto\\tsecure\\ta\\tpass\\tgrade\\tin\\tthe\\tarrear\\texam,\\tthen\\tdo\\tI\\tallow\\tto\\tdo\\treregistration?\\tANS:\\tYes,\\tbut\\tyou\\tneed\\tto\\treregister\\tall\\tcomponents.\\t\\tQ67:\\tIf\\tI\\tdid\\tthe\\tfollowing\\tcourse\\twith\\tembedded\\ttheory\\twith\\tproject\\tcomponent\\tthen\\thow\\tmy\\tmarks\\twill\\tbe\\tdistributed?\\t\\tCourse\\tcode\\tCourse\\tTitle\\tL\\tT\\tP\\tJ\\tC\\tCSE4022\\tNatural\\tLanguage\\tProcessing\\t3\\t0\\t0\\t4\\t4\\t\\tANS:\\t3:1\\tratio\\twill\\tbe\\tconsidered\\tfor\\ttheory\\tand\\tProject\\tcomponent\\trespectively.', metadata={'source': 'data/8.pdf', 'page': 8}),\n",
       " Document(page_content='GENERAL\\tQUERIES\\t\\tQ68.\\t\\tHow\\tcan\\tI\\tget\\tthe\\tcertidicate\\twhich\\tstates\\tthat\\tI\\tam\\tcurrently\\tstudying\\tin\\tVIT?\\tANS:\\tBonadide\\tcertidicate\\tand\\tyou\\tcan\\tapply\\tit\\tin\\tVTOP\\tunder\\tAPPLY\\tBONAFIDE.\\t\\tQ69:\\tHow\\tcan\\tI\\tget\\tNo\\tObjection\\tCertidicate\\tfor\\tIndustrial\\tInternship?\\tANS:\\t\\tSend\\ta\\tmail\\tto\\tyour\\tprogramme\\tHoD\\twith\\tcompany\\tdetails.\\t\\tQ70:\\tWhom\\tdo\\tI\\tcontact\\tfor\\tstudent\\tID\\tcard\\tany\\tother\\tattestation\\tfor\\tscholarship?\\tANS:\\tStudent\\tRecord\\tsection\\t(ara@vit.ac.in)', metadata={'source': 'data/8.pdf', 'page': 9}),\n",
       " Document(page_content='DR\\t\\tPRIYA\\tG\\t\\t\\t\\t\\t\\t\\t\\t\\t\\t\\t\\tHoD,\\tB.Tech\\tCSE\\tand\\tBusiness\\tSystems\\t&\\tB.Tech\\tCSE(Bioinformatics)\\tQ39:\\tWhich\\tare\\tthe\\tcategories\\twill\\tbe\\tconsidered\\tfor\\tcredit\\ttransfer?\\tANS:\\tCredit\\tTransfer\\twill\\tbe\\tconsidered\\tonly\\tfor\\tthe\\tcourses\\tunder\\tProgramme\\tElective\\t/\\tDiscipline\\tElective\\tand\\tUniversity\\tElective\\t/\\tOpen\\tElective\\tcategory.\\t\\t\\tQ40:\\tHow\\tCourse\\tTitle\\t/\\tContent\\tVerification\\tfor\\tCredit\\tTransfer\\tand\\taward\\tof\\tGrade\\twill\\tbe\\tdone?\\tANS:\\tSchool\\tCommittee\\t(Course\\tCoordinator\\t/\\tHoD\\t/\\tDean)\\tis\\tresponsible\\tto\\tverify\\tthe\\tcourse\\ttitle\\t/\\tcontent\\tof\\tthe\\tcourse\\tcompleted\\tby\\tthe\\tstudent\\tthrough\\tSemester\\tAbroad\\tProgram\\tand\\trecommend\\tthe\\tnumber\\tof\\tcredits\\tto\\tbe\\tconsidered\\tunder\\teach\\tcategory\\t(Programme\\tElective\\t/\\tDiscipline\\tElective\\tand\\tUniversity\\tElective\\t/\\tOpen\\tElective)\\tand\\tthe\\tGrade\\tto\\tbe\\tawarded.\\t\\t_____________________________________________________________________________________________________ \\tBRIDGE\\tCOURSES\\t\\tQ41:\\tWhat\\tis\\tbridge\\tcourse?\\tANS:\\tDepending\\t on\\t the\\t proficiency\\t in\\t language\\t and\\t other', metadata={'source': 'data/8.pdf', 'page': 5})]"
      ]
     },
     "execution_count": 29,
     "metadata": {},
     "output_type": "execute_result"
    }
   ],
   "source": [
    "ensemble_retriever.get_relevant_documents(\"How to focus on the task at hand?\")"
   ]
  },
  {
   "cell_type": "code",
   "execution_count": 30,
   "metadata": {},
   "outputs": [],
   "source": [
    "from langchain.chains import RetrievalQA\n",
    "\n",
    "qa_chain = RetrievalQA.from_chain_type(llm=llm, \n",
    "                                  retriever=ensemble_retriever,\n",
    "                                  return_source_documents=True)\n",
    "     "
   ]
  },
  {
   "cell_type": "code",
   "execution_count": 31,
   "metadata": {},
   "outputs": [],
   "source": [
    "def process_llm_response(query):\n",
    "    llm_response = qa_chain(query)\n",
    "    return llm_response['result']\n",
    "    print('\\n\\nSources:')\n",
    "    for source in llm_response[\"source_documents\"]:\n",
    "        print(source.metadata['source'])"
   ]
  },
  {
   "cell_type": "code",
   "execution_count": 32,
   "metadata": {},
   "outputs": [
    {
     "data": {
      "text/plain": [
       "\" To apply for grade improvement, you must register for the same course again during a subsequent Course Registration process. This course will be treated as another course taken by the student and no relaxation in the maximum number of credits a student can register during a semester will be given. However, you will have to pay the course fee for registering the course again. This option can only be availed once for a given course and is only available during regular semesters. Students at their graduating year or who are timed out are permitted to register for more than one 'Grade Improvement' course.\""
      ]
     },
     "execution_count": 32,
     "metadata": {},
     "output_type": "execute_result"
    }
   ],
   "source": [
    "query = \"How to apply for grade improvement?\"\n",
    "process_llm_response(query)\n",
    "# qa_chain(query)"
   ]
  },
  {
   "cell_type": "code",
   "execution_count": null,
   "id": "e505815e",
   "metadata": {},
   "outputs": [],
   "source": [
    "def main():\n",
    "    st.title(\"VIT QA System\")\n",
    "    user_input = st.text_area(\"Enter Query\")\n",
    "\n",
    "    if st.button(\"Get response\"):\n",
    "        result = process_llm_response(user_input)\n",
    "        st.write(\"Response:\")\n",
    "        # make text bigger\n",
    "        st.write(f\"**{result}**\")\n",
    "main()"
   ]
  }
 ],
 "metadata": {
  "kernelspec": {
   "display_name": "Python 3 (ipykernel)",
   "language": "python",
   "name": "python3"
  },
  "language_info": {
   "codemirror_mode": {
    "name": "ipython",
    "version": 3
   },
   "file_extension": ".py",
   "mimetype": "text/x-python",
   "name": "python",
   "nbconvert_exporter": "python",
   "pygments_lexer": "ipython3",
   "version": "3.10.12"
  }
 },
 "nbformat": 4,
 "nbformat_minor": 5
}
