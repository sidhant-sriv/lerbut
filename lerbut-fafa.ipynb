{
 "cells": [
  {
   "cell_type": "code",
   "execution_count": 25,
   "id": "68ee78d5",
   "metadata": {},
   "outputs": [],
   "source": [
    "from langchain.llms import Ollama\n",
    "from langchain.callbacks.manager import CallbackManager\n",
    "from langchain.callbacks.streaming_stdout import StreamingStdOutCallbackHandler\n",
    "from langchain_community.document_loaders import PyPDFLoader\n",
    "from langchain.document_loaders import DirectoryLoader\n",
    "from langchain.text_splitter import RecursiveCharacterTextSplitter\n",
    "from langchain.embeddings import HuggingFaceEmbeddings\n",
    "from langchain.retrievers import BM25Retriever, EnsembleRetriever\n",
    "\n"
   ]
  },
  {
   "cell_type": "code",
   "execution_count": 13,
   "metadata": {},
   "outputs": [],
   "source": [
    "llm = Ollama(model=\"mistral\",  callbacks=CallbackManager([StreamingStdOutCallbackHandler()]),num_gpu=1, base_url=\"http://localhost:11434\")"
   ]
  },
  {
   "cell_type": "code",
   "execution_count": 14,
   "metadata": {},
   "outputs": [
    {
     "name": "stderr",
     "output_type": "stream",
     "text": [
      "/home/sid/.local/lib/python3.10/site-packages/tqdm/auto.py:21: TqdmWarning: IProgress not found. Please update jupyter and ipywidgets. See https://ipywidgets.readthedocs.io/en/stable/user_install.html\n",
      "  from .autonotebook import tqdm as notebook_tqdm\n",
      ".gitattributes: 100%|██████████| 1.52k/1.52k [00:00<00:00, 7.76MB/s]\n",
      "1_Pooling/config.json: 100%|██████████| 191/191 [00:00<00:00, 1.05MB/s]\n",
      "README.md: 100%|██████████| 90.3k/90.3k [00:00<00:00, 440kB/s]\n",
      "config.json: 100%|██████████| 779/779 [00:00<00:00, 4.90MB/s]\n",
      "config_sentence_transformers.json: 100%|██████████| 124/124 [00:00<00:00, 632kB/s]\n",
      "model.safetensors: 100%|██████████| 1.34G/1.34G [30:50<00:00, 725kB/s]\n",
      "pytorch_model.bin: 100%|██████████| 1.34G/1.34G [30:45<00:00, 727kB/s]\n",
      "sentence_bert_config.json: 100%|██████████| 52.0/52.0 [00:00<00:00, 411kB/s]\n",
      "special_tokens_map.json: 100%|██████████| 125/125 [00:00<00:00, 923kB/s]\n",
      "tokenizer.json: 100%|██████████| 711k/711k [00:01<00:00, 603kB/s]\n",
      "tokenizer_config.json: 100%|██████████| 366/366 [00:00<00:00, 1.36MB/s]\n",
      "vocab.txt: 100%|██████████| 232k/232k [00:00<00:00, 811kB/s]\n",
      "modules.json: 100%|██████████| 349/349 [00:00<00:00, 2.74MB/s]\n"
     ]
    }
   ],
   "source": [
    "modelPath = \"BAAI/bge-large-en-v1.5\"\n",
    "\n",
    "# Create a dictionary with model configuration options, specifying to use the CPU for computations\n",
    "model_kwargs = {'device':'cuda:0'}\n",
    "encode_kwargs = {'normalize_embeddings': True}\n",
    "\n",
    "# Initialize an instance of HuggingFaceEmbeddings with the specified parameters\n",
    "embedding = HuggingFaceEmbeddings(\n",
    "    model_name=modelPath,     # Provide the pre-trained model's path\n",
    "    model_kwargs=model_kwargs, # Pass the model configuration options\n",
    "    encode_kwargs=encode_kwargs # Pass the encoding options\n",
    ")"
   ]
  },
  {
   "cell_type": "code",
   "execution_count": 68,
   "id": "5098bb94",
   "metadata": {},
   "outputs": [],
   "source": [
    "loader = DirectoryLoader(\"./data\", glob=\"*.pdf\", loader_cls=PyPDFLoader)\n",
    "documents = loader.load()\n"
   ]
  },
  {
   "cell_type": "code",
   "execution_count": 69,
   "metadata": {},
   "outputs": [
    {
     "data": {
      "text/plain": [
       "632"
      ]
     },
     "execution_count": 69,
     "metadata": {},
     "output_type": "execute_result"
    }
   ],
   "source": [
    "text_splitter = RecursiveCharacterTextSplitter(chunk_size=300, chunk_overlap=0)\n",
    "texts = text_splitter.split_documents(documents)\n",
    "len(texts)"
   ]
  },
  {
   "cell_type": "code",
   "execution_count": 70,
   "metadata": {},
   "outputs": [
    {
     "data": {
      "text/plain": [
       "4892"
      ]
     },
     "execution_count": 70,
     "metadata": {},
     "output_type": "execute_result"
    }
   ],
   "source": [
    "import torch\n",
    "torch.cuda.empty_cache()\n",
    "# print(torch.cuda.memory_summary(device=None, abbreviated=False))\n",
    "import gc\n",
    "torch.cuda.empty_cache()\n",
    "gc.collect()"
   ]
  },
  {
   "cell_type": "code",
   "execution_count": 71,
   "metadata": {},
   "outputs": [],
   "source": [
    "from langchain.vectorstores import Chroma\n",
    "persist_directory = './db'\n",
    "vectordb = Chroma.from_documents(documents=texts, \n",
    "                                 embedding=embedding,\n",
    "                                 persist_directory=persist_directory)\n",
    "vectordb.persist()"
   ]
  },
  {
   "cell_type": "code",
   "execution_count": 72,
   "metadata": {},
   "outputs": [
    {
     "data": {
      "text/plain": [
       "'cuda:0'"
      ]
     },
     "execution_count": 72,
     "metadata": {},
     "output_type": "execute_result"
    }
   ],
   "source": [
    "import torch\n",
    "dev = \"cuda:0\" if torch.cuda.is_available() else \"cpu\"\n",
    "dev"
   ]
  },
  {
   "cell_type": "code",
   "execution_count": 73,
   "metadata": {},
   "outputs": [],
   "source": [
    "retriever = vectordb.as_retriever(search_kwargs={'k': 5})"
   ]
  },
  {
   "cell_type": "code",
   "execution_count": 86,
   "id": "a20b2f03",
   "metadata": {},
   "outputs": [],
   "source": [
    "bm25_retriever = BM25Retriever.from_documents(texts)\n",
    "bm25_retriever.k =  4"
   ]
  },
  {
   "cell_type": "code",
   "execution_count": 87,
   "id": "4dde6e86",
   "metadata": {},
   "outputs": [],
   "source": [
    "ensemble_retriever = EnsembleRetriever(retrievers=[bm25_retriever, retriever],\n",
    "                                       weights=[0.5, 0.5])"
   ]
  },
  {
   "cell_type": "code",
   "execution_count": 88,
   "id": "d2ceb1fb",
   "metadata": {},
   "outputs": [
    {
     "data": {
      "text/plain": [
       "[Document(page_content='\\uf0b7 For scholars admitted in 2019 , the default option ID is 13  and for the \\nscholars admitted in 2020 , the default option ID is 17 . \\n\\uf0b7 For the scholars admitted in 2018 or before , please select the \\nappropriate option ID from t he list. (To know the available', metadata={'page': 1, 'source': 'data/2. Course work allocation and DAC Minutes Upload.pdf'}),\n",
       " Document(page_content='2. For the scholars admitted till 2017, select Research Scholars – Pre 2018 and  \\nFor the scholars admitted from 2018, select Research Scholars – 2018  \\n3. In the Course Allocation by Guide  page, choose the Register Number  of the \\nScholar.  \\n4. Choose the option ID', metadata={'page': 1, 'source': 'data/2. Course work allocation and DAC Minutes Upload.pdf'}),\n",
       " Document(page_content='Note: For the publications of the scholars to be considered for the adjudication of the \\nthesis, the scholars shall include VIT’s affiliation in their publications.', metadata={'source': 'data/5. Publication Requirements.pdf', 'page': 1}),\n",
       " Document(page_content='Academic Research the proof for Co-PIs in the project in which the scholar is working. \\n \\n4. FOR SCHOLARS WHO WERE ADMITTED FROM 2019:  (Approved in 56th \\nAcademic Council of VIT held on 24/09/2019 and amendment in the core committee held \\non 13/2/23)', metadata={'page': 1, 'source': 'data/5. Publication Requirements.pdf'}),\n",
       " Document(page_content='2. FOR SCHOLARS WHO WERE ADMITTED IN 2015 & 2016: (Approved in 37th \\nAcademic Council of VIT held on 16/6/2015 and amendment in the core committee held \\non 13/2/23)  \\nA minimum of two refereed Scopus Indexed Journal publications, in which the scholar', metadata={'page': 0, 'source': 'data/5. Publication Requirements.pdf'}),\n",
       " Document(page_content='Office of Academic Research  \\nResearch Course work  Enrolment and Registration for FAT  \\nTypes of courses available to the Scholars:  \\n1. Research Methodology  (RM) (Mandatory  course ) \\n2. Research and Publication Ethics  (RMC) (Mandatory for the scholars admitted from', metadata={'source': 'data/4. Coursework Enrolment and Registration for FAT.pdf', 'page': 0}),\n",
       " Document(page_content='A student  has to complete a minimum of 15 credits (for students admitted till AY 2018 -2019) or \\n20 credits (if admitted from AY 2019 -2020) , of which  at least  one course  should  have  a lab \\ncomponent,  to become eligible  for ‘Honours’. No relaxation  in the maximum number  of credits', metadata={'page': 31, 'source': 'data/data2.pdf'})]"
      ]
     },
     "execution_count": 88,
     "metadata": {},
     "output_type": "execute_result"
    }
   ],
   "source": [
    "ensemble_retriever.get_relevant_documents(\"scholars admitted in 2019, 17\")"
   ]
  },
  {
   "cell_type": "code",
   "execution_count": 97,
   "metadata": {},
   "outputs": [],
   "source": [
    "from langchain.chains import RetrievalQA\n",
    "\n",
    "qa_chain = RetrievalQA.from_chain_type(llm=llm, \n",
    "                                  retriever=ensemble_retriever,\n",
    "                                  return_source_documents=True)\n",
    "     "
   ]
  },
  {
   "cell_type": "code",
   "execution_count": 91,
   "metadata": {},
   "outputs": [],
   "source": [
    "def process_llm_response(query):\n",
    "    llm_response = qa_chain(query)\n",
    "    return llm_response['result']\n",
    "    # print('\\n\\nSources:')\n",
    "    # for source in llm_response[\"source_documents\"]:\n",
    "    #     print(source.metadata['source'])"
   ]
  },
  {
   "cell_type": "code",
   "execution_count": 98,
   "metadata": {},
   "outputs": [
    {
     "name": "stdout",
     "output_type": "stream",
     "text": [
      " Based on the provided context, there is no information given about the minimum time duration for a direct Ph.D. program. Therefore, I don't have an answer for that question."
     ]
    },
    {
     "data": {
      "text/plain": [
       "\" Based on the provided context, there is no information given about the minimum time duration for a direct Ph.D. program. Therefore, I don't have an answer for that question.\""
      ]
     },
     "execution_count": 98,
     "metadata": {},
     "output_type": "execute_result"
    }
   ],
   "source": [
    "query = \"minimum time duration for direct ph.d\"\n",
    "process_llm_response(query)\n",
    "# qa_chain(query)"
   ]
  },
  {
   "cell_type": "code",
   "execution_count": 67,
   "id": "e505815e",
   "metadata": {},
   "outputs": [],
   "source": [
    "def main():\n",
    "    st.title(\"VIT QA System\")\n",
    "    user_input = st.text_area(\"Enter Query\")\n",
    "\n",
    "    if st.button(\"Get response\"):\n",
    "        result = process_llm_response(user_input)\n",
    "        st.write(\"Response:\")\n",
    "        # make text bigger\n",
    "        st.write(f\"**{result}**\")\n",
    "main()"
   ]
  }
 ],
 "metadata": {
  "kernelspec": {
   "display_name": "Python 3 (ipykernel)",
   "language": "python",
   "name": "python3"
  },
  "language_info": {
   "codemirror_mode": {
    "name": "ipython",
    "version": 3
   },
   "file_extension": ".py",
   "mimetype": "text/x-python",
   "name": "python",
   "nbconvert_exporter": "python",
   "pygments_lexer": "ipython3",
   "version": "3.10.12"
  }
 },
 "nbformat": 4,
 "nbformat_minor": 5
}
