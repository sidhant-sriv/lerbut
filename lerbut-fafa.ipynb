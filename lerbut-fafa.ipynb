{
 "cells": [
  {
   "cell_type": "code",
   "execution_count": 1,
   "id": "68ee78d5",
   "metadata": {},
   "outputs": [],
   "source": [
    "from langchain.llms import Ollama\n",
    "from langchain.callbacks.manager import CallbackManager\n",
    "from langchain.callbacks.streaming_stdout import StreamingStdOutCallbackHandler\n",
    "from langchain_community.document_loaders import PyPDFLoader\n",
    "from langchain.document_loaders import DirectoryLoader\n",
    "from langchain.text_splitter import RecursiveCharacterTextSplitter\n",
    "from langchain.embeddings import HuggingFaceEmbeddings\n",
    "from langchain.retrievers import BM25Retriever, EnsembleRetriever\n",
    "import torch\n"
   ]
  },
  {
   "cell_type": "code",
   "execution_count": 30,
   "id": "6cbea5eb",
   "metadata": {},
   "outputs": [
    {
     "name": "stdout",
     "output_type": "stream",
     "text": [
      "How does the Large Language Model work?\n",
      "\n",
      "The Large Language Model (LLM) is a type of artificial intelligence (AI) model that is trained on a large amount of text data to generate human-like text. The model is trained on a large corpus of text data, which can include books, articles, and other types of written material. The model is then used to generate new text based on the patterns and relationships it has learned from the training data.\n",
      "\n",
      "The LLM is a type of natural language processing (NLP) model\n"
     ]
    }
   ],
   "source": [
    "# llm = Ollama(model=\"mistral\",  callbacks=CallbackManager([StreamingStdOutCallbackHandler()]),num_gpu=1, base_url=\"http://localhost:11434\")\n",
    "\n",
    "from langchain import HuggingFaceHub\n",
    "import torch\n",
    "\n",
    "# Load the model and tokenizer\n",
    "repo_id0 = \"meta-llama/Meta-Llama-3-8B-Instruct\"\n",
    "repo_id1 = \"mistralai/Mistral-7B-Instruct-v0.2\"\n",
    "repo_id2 = \"google/gemma-7b\"\n",
    "model_kwargs = {\"torch_dtype\": str(torch.float16)}  # Convert torch.float16 to a string\n",
    "llm = HuggingFaceHub(repo_id=repo_id2, model_kwargs=model_kwargs, huggingfacehub_api_token=key1)\n",
    "\n",
    "# Use the LLM\n",
    "text = \"How does the Large Language Model work?\"\n",
    "output = llm(text)\n",
    "print(output)"
   ]
  },
  {
   "cell_type": "code",
   "execution_count": 7,
   "id": "47075905",
   "metadata": {},
   "outputs": [],
   "source": [
    "modelPath = \"BAAI/bge-large-en-v1.5\"\n",
    "\n",
    "# Create a dictionary with model configuration options, specifying to use the CPU for computations\n",
    "model_kwargs = {'device':'cuda:0'}\n",
    "encode_kwargs = {'normalize_embeddings': True}\n",
    "\n",
    "# Initialize an instance of HuggingFaceEmbeddings with the specified parameters\n",
    "embedding = HuggingFaceEmbeddings(\n",
    "    model_name=modelPath,     # Provide the pre-trained model's path\n",
    "    model_kwargs=model_kwargs, # Pass the model configuration options\n",
    "    encode_kwargs=encode_kwargs # Pass the encoding options\n",
    ")"
   ]
  },
  {
   "cell_type": "code",
   "execution_count": 8,
   "id": "5098bb94",
   "metadata": {},
   "outputs": [
    {
     "data": {
      "text/plain": [
       "93"
      ]
     },
     "execution_count": 8,
     "metadata": {},
     "output_type": "execute_result"
    }
   ],
   "source": [
    "loader = DirectoryLoader(\"./data\", glob=\"*.pdf\", loader_cls=PyPDFLoader)\n",
    "documents = loader.load()\n",
    "len(documents)\n"
   ]
  },
  {
   "cell_type": "code",
   "execution_count": 10,
   "id": "5d8119e9",
   "metadata": {},
   "outputs": [
    {
     "data": {
      "text/plain": [
       "461"
      ]
     },
     "execution_count": 10,
     "metadata": {},
     "output_type": "execute_result"
    }
   ],
   "source": [
    "text_splitter = RecursiveCharacterTextSplitter(chunk_size=500, chunk_overlap=0)\n",
    "texts = text_splitter.split_documents(documents)\n",
    "len(texts)"
   ]
  },
  {
   "cell_type": "code",
   "execution_count": 11,
   "id": "68aaf5a3",
   "metadata": {},
   "outputs": [
    {
     "data": {
      "text/plain": [
       "2247"
      ]
     },
     "execution_count": 11,
     "metadata": {},
     "output_type": "execute_result"
    }
   ],
   "source": [
    "# import torch\n",
    "# torch.cuda.empty_cache()\n",
    "# print(torch.cuda.memory_summary(device=None, abbreviated=False))\n",
    "import gc\n",
    "torch.cuda.empty_cache()\n",
    "gc.collect()"
   ]
  },
  {
   "cell_type": "code",
   "execution_count": 12,
   "id": "3f6379d9",
   "metadata": {},
   "outputs": [],
   "source": [
    "from langchain.vectorstores import Chroma\n",
    "persist_directory = './db'\n",
    "vectordb = Chroma.from_documents(documents=texts, \n",
    "                                 embedding=embedding,\n",
    "                                 persist_directory=persist_directory)\n",
    "vectordb.persist()"
   ]
  },
  {
   "cell_type": "code",
   "execution_count": 13,
   "id": "92913a2b",
   "metadata": {},
   "outputs": [
    {
     "data": {
      "text/plain": [
       "'cuda:0'"
      ]
     },
     "execution_count": 13,
     "metadata": {},
     "output_type": "execute_result"
    }
   ],
   "source": [
    "import torch\n",
    "dev = \"cuda:0\" if torch.cuda.is_available() else \"cpu\"\n",
    "dev"
   ]
  },
  {
   "cell_type": "code",
   "execution_count": 14,
   "id": "80174e40",
   "metadata": {},
   "outputs": [],
   "source": [
    "retriever = vectordb.as_retriever(search_kwargs={'k': 7})"
   ]
  },
  {
   "cell_type": "code",
   "execution_count": 15,
   "id": "a20b2f03",
   "metadata": {},
   "outputs": [],
   "source": [
    "bm25_retriever = BM25Retriever.from_documents(texts)\n",
    "bm25_retriever.k =  5"
   ]
  },
  {
   "cell_type": "code",
   "execution_count": 16,
   "id": "4dde6e86",
   "metadata": {},
   "outputs": [],
   "source": [
    "ensemble_retriever = EnsembleRetriever(retrievers=[bm25_retriever, retriever],\n",
    "                                       weights=[0.3, 0.7])"
   ]
  },
  {
   "cell_type": "code",
   "execution_count": 12,
   "id": "d2ceb1fb",
   "metadata": {},
   "outputs": [
    {
     "data": {
      "text/plain": [
       "[Document(page_content='4. Choose the option ID  \\n\\uf0b7 For scholars admitted in 2019 , the default option ID is 13  and for the \\nscholars admitted in 2020 , the default option ID is 17 . \\n\\uf0b7 For the scholars admitted in 2018 or before , please select the \\nappropriate option ID from t he list. (To know the available \\noptions ,  Option Details - Click Here  ) \\n5. Select appropriate Course Type  for each course.  \\n \\nCourse Type   Description  \\nResearch Methodology  Research Methodology course', metadata={'page': 1, 'source': 'data/0.pdf'}),\n",
       " Document(page_content='scholar shall be the first author with the Guide as the corresponding author. If there is \\nan approved Co -Guide, he/she can be a co -author in the publications  \\n8.    There shall not be more than two  Guides for a research scholar.  \\n  \\nResearch Regulations applicable to the scholars who were admitted from 2015 to \\n2018  \\nPh.D. Regulations 2015 and 2017 shall continue and the following amendment to \\nbe incorporated to the existing 2015 and 2017  regulations to take care of the concerns of', metadata={'page': 0, 'source': 'data/17.pdf'}),\n",
       " Document(page_content='(Minimum of 8 -week courses to be taken from MOOC platforms such as NPTEL, \\nCoursera, Khan Academy, edx, etc. ) \\n5. Upload the DAC signed copy of syllabus  \\n \\nStep 2. Course allocation to the Scholars  \\n1. Please go to  Research \\uf0e0 Coursework Allocation  \\n2. For the scholars admitted till 2017, select Research Scholars – Pre 2018 and  \\nFor the scholars admitted from 2018, select Research Scholars – 2018  \\n3. In the Course Allocation by Guide  page, choose the Register Number  of the \\nScholar.', metadata={'source': 'data/0.pdf', 'page': 1}),\n",
       " Document(page_content='4. FOR SCHOLARS WHO WERE ADMITTED FROM 2019:  (Approved in 56th \\nAcademic Council of VIT held on 24/09/2019 and amendment in the core committee held \\non 13/2/23)  \\n \\n\\uf0b7 For scholars from Science, Engineering and Technology, a minimum of two Scopus-\\nindexed peer-reviewed research paper publications with impact factor is required .  \\n\\uf0b7 For scholars from Management and Law a minimum of two peer-reviewed Scopus \\nindexed research paper publications are required.', metadata={'page': 1, 'source': 'data/10.pdf'}),\n",
       " Document(page_content='For Scholars admitted till 2018  \\n \\nPh.D Programme : \\n\\uf0b7 Four  courses with a minimum of 12  Credits  \\n\\uf0b7 Please refer the VTOP for various options available.  \\n \\nIntegrated Ph.D. Programme  \\n\\uf0b7 Eight  courses with a minimum of 25  Credits  \\n\\uf0b7 Please refer the VTOP for various options available.  \\n*** \\n \\nImportant Guidelines  \\n \\nPG Level courses  \\na. The PG level course that is recommended by the DC should not have been studied by \\nthe scholars in their PG programme.', metadata={'source': 'data/14.pdf', 'page': 1}),\n",
       " Document(page_content='admission to various program s every year.', metadata={'page': 5, 'source': 'data/19.pdf'}),\n",
       " Document(page_content='3. FOR SCHOLARS WHO WERE ADMITTED IN 2017 & 2018: (Approved in 48th \\nAcademic Council of VIT held on 14/12/2017 and amendment in the core committee held \\non 13/2/23)  \\nA minimum of two refereed Scopus Indexed Journal publications, of which one Journal \\npublication with impact factor . The Scholar will be the first author and the guide \\nshould be the corresponding author . Here, multiple authors are not allowed other than \\nthe approved Research Advisor, if any.', metadata={'page': 0, 'source': 'data/10.pdf'}),\n",
       " Document(page_content='number  appropriately.  Students  admitted  into a program  shall adopt  a curriculum  specified  \\nby the Academic  Council  for that academic year.  Unless  otherwise stated  explicitly  by the \\nAcademic Council,  any changes  in curriculum  will be applicable to the students  admitted  in \\nthe subsequent  year and the existing  batches  continue to follow  the curriculum  prescribed  \\nat the time of their  joining  the program . Due to FFCs, it is possible that some students registe r', metadata={'source': 'data/19.pdf', 'page': 6}),\n",
       " Document(page_content='2. FOR SCHOLARS WHO WERE ADMITTED IN 2015 & 2016: (Approved in 37th \\nAcademic Council of VIT held on 16/6/2015 and amendment in the core committee held \\non 13/2/23)  \\nA minimum of two refereed Scopus Indexed Journal publications, in which the scholar \\nwill be the first author and the guide will be the corresponding author. Here, multiple \\nauthors are not allowed other than the approved Research Advisor, if any.', metadata={'page': 0, 'source': 'data/10.pdf'}),\n",
       " Document(page_content='Office of Academic Research  \\nNorms for Co – Guide  \\nPh.D. Regulations 2019 shall continue and the following amendment to be  incorporated to \\nthe existing 2019 regulations to take care of the concerns of different stake holders.  (As per \\n66th Academic council Minutes approved on 16/6/2022)  \\nCo- guide:  \\n A Co - guide can be permitted under the following circumstances:  \\n1.    If the scholar is a project staff, Co -Principal Investigator (Co -PI) of the project working', metadata={'page': 0, 'source': 'data/17.pdf'})]"
      ]
     },
     "execution_count": 12,
     "metadata": {},
     "output_type": "execute_result"
    }
   ],
   "source": [
    "ensemble_retriever.get_relevant_documents(\"scholars admitted in 2019, 17\")"
   ]
  },
  {
   "cell_type": "code",
   "execution_count": 17,
   "id": "15841b2d",
   "metadata": {},
   "outputs": [],
   "source": [
    "from langchain.chains import RetrievalQA\n",
    "\n",
    "qa_chain = RetrievalQA.from_chain_type(llm=llm, \n",
    "                                  retriever=ensemble_retriever,\n",
    "                                  return_source_documents=True)\n",
    "     "
   ]
  },
  {
   "cell_type": "code",
   "execution_count": 18,
   "id": "b38dc273",
   "metadata": {},
   "outputs": [],
   "source": [
    "def process_llm_response(query):\n",
    "    llm_response = qa_chain(query)\n",
    "    return llm_response['result']\n",
    "    print('\\n\\nSources:')\n",
    "    for source in llm_response[\"source_documents\"]:\n",
    "        print(source.metadata['source'])"
   ]
  },
  {
   "cell_type": "code",
   "execution_count": 32,
   "id": "654b6ee5",
   "metadata": {},
   "outputs": [
    {
     "name": "stdout",
     "output_type": "stream",
     "text": [
      "('Use the following pieces of context to answer the question at the end. If '\n",
      " \"you don't know the answer, just say that you don't know, don't try to make \"\n",
      " 'up an answer.\\n'\n",
      " '\\n'\n",
      " 'CAPSTONE\\tPROJECTS/SAP\\t(Semester\\tAbroad\\tProgram)\\t\\tQ34.\\tWhat\\tare\\tthe\\t'\n",
      " 'various\\tcategories\\tto\\tdo\\tthe\\tcapstone\\tproject?\\t'\n",
      " 'ANS:\\t\\t\\t\\t\\t\\t\\t\\t\\t\\t\\t1.\\t\\t\\tIn-House\\t(within\\tcampus\\tunder\\tthe\\t'\n",
      " 'faculty\\tguidance)\\t\\t\\t\\t\\t\\t\\t\\t\\t\\t\\t2.\\t\\t\\tCDC\\tproject\\t(Through\\t'\n",
      " 'CDC)\\t\\t\\t\\t\\t\\t\\t\\t\\t\\t\\t3.\\t\\t\\tNon-CDC\\tProject\\t(Capstone\\tprojects\\tin\\t'\n",
      " 'industry\\tbut\\tnot\\tthrough\\tCDC)\\t\\t\\t\\t\\t\\t\\t\\t\\t\\t\\t4.\\t\\t\\tSAP\\tproject\\t'\n",
      " '(Semester\\tAbroad\\tprogramme\\tthru\\tIR\\tofdice)\\t\\tQ35.\\tWhich\\tare\\tthe\\t'\n",
      " 'institutes\\tI\\tcan\\tapply\\tfor\\tSAP?\\tANS:\\tPartner\\tuniversities\\tand\\t\\t'\n",
      " 'Top\\t500\\tQoS\\tRanking\\tUniversities\\t/\\n'\n",
      " '\\n'\n",
      " 'GRADE\\tIMPROVEMENT\\t\\tQ12:\\t\\tCan\\tI\\tdo\\tGrade\\tImprovement\\tin\\tsummer\\t'\n",
      " 'Semester\\tand\\tWeekend\\tsemester?\\tANS:\\tNo,\\tGrade\\timprovement\\tis\\t'\n",
      " 'allowed\\tonly\\tin\\tregular\\tFall\\tsemester\\tor\\tRegular\\tWinter\\t'\n",
      " 'semester.\\t\\tQ13:\\tHow\\tmany\\tGrade\\timprovements\\tare\\tallowed\\tper\\t'\n",
      " 'semester?\\tANS:\\tOnly\\tone\\tgrade\\timprovement\\tis\\tallowed\\tfor\\tall\\t'\n",
      " 'except\\tdinal\\tyear\\tstudents.\\tMore\\tthan\\tone\\tis\\tallowed\\tfor\\tdinal\\t'\n",
      " 'years.\\t\\tQ14:\\tDo\\tI\\tneed\\tto\\tpay\\tthe\\tfees\\tfor\\tgrade\\timprovement?\\t'\n",
      " 'ANS:\\tYes\\t________________________________________________________________\\n'\n",
      " '\\n'\n",
      " 'he\\tcourse\\ttitle\\t/\\tcontent\\tof\\tthe\\tcourse\\tcompleted\\tby\\tthe\\tstudent\\t'\n",
      " 'through\\tSemester\\tAbroad\\tProgram\\tand\\trecommend\\tthe\\tnumber\\tof\\t'\n",
      " 'credits\\tto\\tbe\\tconsidered\\tunder\\teach\\tcategory\\t(Programme\\tElective\\t/\\t'\n",
      " 'Discipline\\tElective\\tand\\tUniversity\\tElective\\t/\\tOpen\\tElective)\\tand\\t'\n",
      " 'the\\tGrade\\tto\\tbe\\tawarded.\\t\\t'\n",
      " '_____________________________________________________________________________________________________\\n'\n",
      " '\\n'\n",
      " 'Grade  Sheet  and Consolidated  Grade  Sheet  as a Pass/  Fail course with '\n",
      " 'no credits  assigned. \\n'\n",
      " 'Hence  the credits  earned  will not be conside red for GPA/CGPA '\n",
      " 'calculation.  \\n'\n",
      " ' \\n'\n",
      " 'Semester Abroad Program : \\n'\n",
      " ' \\n'\n",
      " 'VIT’s  Semester  Abroad  Program  (SAP)  aims to encourage  both  the '\n",
      " 'undergraduate  / final year  \\n'\n",
      " 'and postgraduate  students  from  all streams  to pursue  their  final '\n",
      " 'semester  in other  \\n'\n",
      " 'universities  abroad. The Office of International Relations  organizes  a '\n",
      " 'road -show  on SAP and\\n'\n",
      " '\\n'\n",
      " 'students  in their  pre-final year of their program s are invited  to '\n",
      " 'participate. Students  take up \\n'\n",
      " 'their Capstone  Project  in the campus of the University  Abroad  under  the '\n",
      " 'guidance  of a \\n'\n",
      " 'Faculty member  from  that University  in addition  to a guide  from  VIT. '\n",
      " 'The progress of the work  \\n'\n",
      " 'is monitored  by both the guides  and will be evaluated  periodically.  The '\n",
      " 'final viva voce  \\n'\n",
      " 'examination  for the project  will be conducted  in VIT only after  '\n",
      " 'successful  complet ion of the\\n'\n",
      " '\\n'\n",
      " '3  4. Academic  System  \\n'\n",
      " '4.1  Semester     \\n'\n",
      " 'All program s offered by VIT  shall  adopt  a Semester  system,  except the '\n",
      " 'MBA  program  \\n'\n",
      " 'which will be  offered  in trimester  mode.  There will be two semester s in '\n",
      " 'an academic  year.  \\n'\n",
      " 'Normally the  Fall Semester  will be from July to November  and Winter  '\n",
      " 'Semester  from  December \\n'\n",
      " 'to April.  Optional  Intersession and Summer  semesters,  during the Winter '\n",
      " 'and  Summer vacation\\n'\n",
      " '\\n'\n",
      " 'Example : UC specifies  that each  student should  take a foreign  language  '\n",
      " 'course(s)  for 2 \\n'\n",
      " 'credits.  This can be met by taking  any course offered  from  a basket  of '\n",
      " 'foreign  language  \\n'\n",
      " 'courses,  like French,  Arabic,  Russian,  Italian, German,  Chinese,  '\n",
      " 'Japanese,  Spanish, and others.  \\n'\n",
      " ' \\n'\n",
      " '6.4.2 Program  Core  (PC) \\n'\n",
      " ' \\n'\n",
      " 'Courses listed  under  Program  Core of a curriculum are program  specific . '\n",
      " 'Students  have to\\n'\n",
      " '\\n'\n",
      " 'DR\\t\\tPRIYA\\tG\\t\\t\\t\\t\\t\\t\\t\\t\\t\\t\\t\\tHoD,\\tB.Tech\\tCSE\\tand\\tBusiness\\t'\n",
      " 'Systems\\t&\\tB.Tech\\tCSE(Bioinformatics)\\t\\t\\tQ71:\\tWhom\\tdo\\tI\\tcontact\\t'\n",
      " 'for\\tNPTEL\\tqueries?\\tANS:\\t\\tAcademic\\tcoordinator\\tof\\tyour\\tSchool\\t\\t'\n",
      " 'Q72:\\t\\tWhom\\tdo\\tI\\tcontact\\tCDC\\trelated\\tquery?\\tANS:\\t\\t'\n",
      " 'patqueries.vlr@vit.ac.in\\t\\tQ73:\\tWhom\\tdo\\tI\\tcontact\\tVTOP\\trelated\\t'\n",
      " 'issues?\\tANS:\\thelpdesk.sdc@vit.ac.in\\t\\tQ74:\\tWhom\\tdo\\tI\\tcontact\\t'\n",
      " 'Examination/\\tmark\\tsheet\\trelated\\tquery?\\tANS:\\thelpdesk.coe@vit.ac.in\\t\\t'\n",
      " 'Q75:\\tWhom\\tdo\\tI\\tcontact\\tdinance\\trelated\\tquery?\\tANS:\\t'\n",
      " 'helpdesk.dinance@vit.ac.in\\n'\n",
      " '\\n'\n",
      " 'DR\\t\\tPRIYA\\tG\\t\\t\\t\\t\\t\\t\\t\\t\\t\\t\\t\\tHoD,\\tB.Tech\\tCSE\\tand\\tBusiness\\t'\n",
      " 'Systems\\t&\\tB.Tech\\tCSE(Bioinformatics)\\tINDUSTRIAL\\tINTERNSHIP\\t\\tQ29:\\t'\n",
      " 'What\\tis\\tthe\\tminimum\\tduration\\tfor\\tIndustrial\\tinternship?\\tANS:\\t4\\t'\n",
      " 'weeks.\\tYou\\tcan\\tavail\\tthis\\ttraining\\tin\\ta\\tsingle\\tstretch\\tof\\tfour\\t'\n",
      " 'weeks\\t(28\\tdays)\\tor\\tin\\ttwo\\tstretches\\tof\\ttwo-weeks\\tduration.\\t\\t\\t'\n",
      " 'Q30:\\tWhen\\tcan\\twe\\tdo\\tIndustrial\\tInternship?\\tANS:\\tAny\\ttime\\tafter\\t'\n",
      " 'their\\tdirst\\tyear\\tof\\tstudy\\tonly\\tduring\\tthe\\tsemester\\tbreaks.\\t\\t\\t'\n",
      " 'Q31:\\tWhen\\tdo\\tI\\tupload\\tthe\\tinternship\\treport,\\tDiary\\treport\\tand\\t'\n",
      " 'certidica\\n'\n",
      " '\\n'\n",
      " 'DR\\t\\tPRIYA\\tG\\t\\t\\t\\t\\t\\t\\t\\t\\t\\t\\t\\tHoD,\\tB.Tech\\tCSE\\tand\\tBusiness\\t'\n",
      " 'Systems\\t&\\tB.Tech\\tCSE(Bioinformatics)\\tQ55:\\tWhat\\tis\\tprocedure\\tto\\t'\n",
      " 'apply\\tfor\\tpaper\\tseeing\\tand\\treevaluation?\\t\\tThe\\tprocedure\\tis\\tgiven\\t'\n",
      " 'in\\tthe\\tfollowing\\tsteps.\\t\\n'\n",
      " '\\t\\t\\tQ56.\\tHow\\tmuch\\tdo\\tI\\tneed\\tto\\tpay\\tfor\\tpaper\\tseeing\\tand\\t'\n",
      " 'reevaluation?\\tANS:\\t₹100\\tfor\\tpaper\\tseeing\\tand\\t₹300\\tfor\\t'\n",
      " 'reevaluation.\\t\\t\\tQ57:\\tIf\\tmy\\treevaluation\\tmark\\tis\\tlesser\\tthan\\tmy\\t'\n",
      " 'actual\\tmark,\\tthen\\twhich\\tmark\\twill\\tbe\\tconsidered?\\tANS:\\tBest\\tof\\t'\n",
      " 'Two\\twill\\tbe\\tconsidered.\\n'\n",
      " '\\n'\n",
      " 'Question: What do I do for semester abroad?\\n'\n",
      " 'Helpful Answer: You can apply for the Semester Abroad Program (SAP) through '\n",
      " 'the Office of International Relations. You can take up your Capstone Project '\n",
      " 'in the campus of the University Abroad under the guidance of a Faculty '\n",
      " 'member from that University in addition to a guide from VIT. The progress of '\n",
      " 'the work is monitored by both the guides and will be evaluated periodically. '\n",
      " 'The final viva voce examination for the project will be conducted in VIT '\n",
      " 'only after successful completion of the project. You can also apply')\n"
     ]
    }
   ],
   "source": [
    "query = \"What do I do for semester abroad?\"\n",
    "from pprint import pprint\n",
    "pprint(process_llm_response(query))\n",
    "# qa_chain(query)"
   ]
  },
  {
   "cell_type": "code",
   "execution_count": null,
   "id": "e505815e",
   "metadata": {},
   "outputs": [],
   "source": [
    "def main():\n",
    "    st.title(\"VIT QA System\")\n",
    "    user_input = st.text_area(\"Enter Query\")\n",
    "\n",
    "    if st.button(\"Get response\"):\n",
    "        result = process_llm_response(user_input)\n",
    "        st.write(\"Response:\")\n",
    "        # make text bigger\n",
    "        st.write(f\"**{result}**\")\n",
    "main()"
   ]
  }
 ],
 "metadata": {
  "kernelspec": {
   "display_name": "Python 3 (ipykernel)",
   "language": "python",
   "name": "python3"
  },
  "language_info": {
   "codemirror_mode": {
    "name": "ipython",
    "version": 3
   },
   "file_extension": ".py",
   "mimetype": "text/x-python",
   "name": "python",
   "nbconvert_exporter": "python",
   "pygments_lexer": "ipython3",
   "version": "3.10.12"
  }
 },
 "nbformat": 4,
 "nbformat_minor": 5
}
